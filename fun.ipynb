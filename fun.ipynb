{
 "cells": [
  {
   "cell_type": "code",
   "execution_count": 5,
   "metadata": {},
   "outputs": [
    {
     "name": "stdout",
     "output_type": "stream",
     "text": [
      "2 is the even number\n",
      "55 is the odd number\n"
     ]
    }
   ],
   "source": [
    "def main():\n",
    "    even(2)\n",
    "    odd(55)\n",
    "\n",
    "def even(n):\n",
    "    if n % 2 == 0 :\n",
    "        print(n,\"is the even number\")\n",
    "\n",
    "def odd(n):\n",
    "    if n % 2 != 0 :\n",
    "        print(n,\"is the odd number\")\n",
    "        \n",
    "main()"
   ]
  },
  {
   "cell_type": "code",
   "execution_count": 9,
   "metadata": {},
   "outputs": [
    {
     "name": "stdout",
     "output_type": "stream",
     "text": [
      "1060.0\n"
     ]
    }
   ],
   "source": [
    "\n",
    "def addinterest(balance,rate):\n",
    "    newbalance=balance*(1+rate)\n",
    "    return newbalance\n",
    "\n",
    "def main():\n",
    "    amount=1000\n",
    "    rate=0.06\n",
    "    amount= addinterest(amount,rate)\n",
    "    print(amount)\n",
    "\n",
    "main()\n",
    "    "
   ]
  },
  {
   "cell_type": "code",
   "execution_count": 1,
   "metadata": {},
   "outputs": [
    {
     "name": "stdout",
     "output_type": "stream",
     "text": [
      "smallest\n"
     ]
    }
   ],
   "source": [
    "def odd_even():\n",
    "    if 10>20:\n",
    "        print(\"greater\")\n",
    "    else:\n",
    "        print(\"smallest\")\n",
    "\n",
    "odd_even()"
   ]
  },
  {
   "cell_type": "code",
   "execution_count": 6,
   "metadata": {},
   "outputs": [
    {
     "name": "stdout",
     "output_type": "stream",
     "text": [
      "you have read the value from user: 20\n",
      "400\n"
     ]
    }
   ],
   "source": [
    "a=int(input(\"enter a value: \"))\n",
    "print(\"you have read the value from user:\",a)\n",
    "b=a*a\n",
    "print(b)\n"
   ]
  },
  {
   "cell_type": "code",
   "execution_count": 11,
   "metadata": {},
   "outputs": [
    {
     "name": "stdout",
     "output_type": "stream",
     "text": [
      "10.0\n",
      "<class 'float'>\n"
     ]
    }
   ],
   "source": [
    "a=float(input(\"enter a number: \"))\n",
    "print(a)\n",
    "print(type(a))"
   ]
  },
  {
   "cell_type": "code",
   "execution_count": 16,
   "metadata": {},
   "outputs": [
    {
     "name": "stdout",
     "output_type": "stream",
     "text": [
      "0xa\n",
      "<class 'str'>\n"
     ]
    }
   ],
   "source": [
    "a=int(input(\"enter a number:\"))\n",
    "b=hex(a)\n",
    "print(b)\n",
    "print(type(b))"
   ]
  },
  {
   "attachments": {},
   "cell_type": "markdown",
   "metadata": {},
   "source": [
    "custom program"
   ]
  },
  {
   "cell_type": "code",
   "execution_count": null,
   "metadata": {},
   "outputs": [],
   "source": [
    "def readdata():\n",
    "    a=int(input(\"enter a value:\"))\n",
    "    b=int(input(\"enter b value:\"))\n",
    "    addition(a,b)\n",
    "    \n",
    "    \n",
    "def addition(a,b):    \n",
    "  sum=a+b\n",
    "  print(sum)\n",
    "  oddeven(sum)\n",
    " \n",
    "def oddeven(sum):\n",
    "    \n",
    " if(sum % 2 == 0):\n",
    "    \n",
    "    print(\"sum is even\")\n",
    " else:\n",
    "    print(\"sum is odd\")\n",
    " \n",
    "readdata()   "
   ]
  },
  {
   "attachments": {},
   "cell_type": "markdown",
   "metadata": {},
   "source": [
    "write a python program to find largest of 5 number from user?"
   ]
  },
  {
   "cell_type": "code",
   "execution_count": 2,
   "metadata": {},
   "outputs": [
    {
     "name": "stdout",
     "output_type": "stream",
     "text": [
      "list elements: [12, 21]\n",
      "largest element is :  21\n",
      "smallest element is :  12\n"
     ]
    }
   ],
   "source": [
    "list=[]\n",
    "n=int(input(\"enter n numbers\"))\n",
    "for i in range(1,n+1):\n",
    "    element=int(input(\"enter  elements\"))\n",
    "    list.append(element)\n",
    "    \n",
    "print(\"list elements:\",list)\n",
    "print(\"largest element is : \",max(list))\n",
    "print(\"smallest element is : \",min(list))\n",
    "\n"
   ]
  },
  {
   "cell_type": "code",
   "execution_count": 16,
   "metadata": {},
   "outputs": [
    {
     "name": "stdout",
     "output_type": "stream",
     "text": [
      "25 20.5 python\n",
      "2520.5python\n",
      "25<<-->>20.5<<-->>python\n",
      "25 20.5 python.."
     ]
    }
   ],
   "source": [
    "a=25\n",
    "b=20.5\n",
    "c=\"python\"\n",
    "print(a,b,c)\n",
    "print(a,b,c,sep='')\n",
    "print(a,b,c,sep='<<-->>')\n",
    "print(a,b,c,end='..')"
   ]
  },
  {
   "cell_type": "code",
   "execution_count": 18,
   "metadata": {},
   "outputs": [
    {
     "name": "stdout",
     "output_type": "stream",
     "text": [
      "hello python\n"
     ]
    }
   ],
   "source": [
    "my_file=open(\"hello.txt\",\"r\")\n",
    "print(my_file.read())"
   ]
  },
  {
   "cell_type": "code",
   "execution_count": 3,
   "metadata": {},
   "outputs": [
    {
     "name": "stdout",
     "output_type": "stream",
     "text": [
      "5\n",
      "hello\n"
     ]
    }
   ],
   "source": [
    "my_file=open(\"hello.txt\",\"w\")\n",
    "print(my_file.write(\"hello\"))\n",
    "\n",
    "\n",
    "my_file=open(\"hello.txt\",\"r\")\n",
    "print(my_file.read())"
   ]
  },
  {
   "cell_type": "code",
   "execution_count": 2,
   "metadata": {},
   "outputs": [
    {
     "name": "stdout",
     "output_type": "stream",
     "text": [
      "<class 'int'>\n"
     ]
    }
   ],
   "source": [
    "c=5\n",
    "print(type(c))\n"
   ]
  },
  {
   "attachments": {},
   "cell_type": "markdown",
   "metadata": {},
   "source": [
    "integer"
   ]
  },
  {
   "cell_type": "code",
   "execution_count": 17,
   "metadata": {},
   "outputs": [
    {
     "name": "stdout",
     "output_type": "stream",
     "text": [
      "Addition: 11\n",
      "Subtraction: 3\n",
      "Division: 4\n",
      "Multiplication: 15\n",
      "Modulus: 0\n",
      "Exponent: 36\n"
     ]
    }
   ],
   "source": [
    "a = 5\n",
    "b = 6\n",
    " \n",
    "# Addition\n",
    "c = a + b\n",
    "print(\"Addition:\",c)\n",
    " \n",
    "d = 9\n",
    "e = 6\n",
    " \n",
    "# Subtraction\n",
    "f = d - e\n",
    "print(\"Subtraction:\",f)\n",
    " \n",
    "g = 8\n",
    "h = 2\n",
    " \n",
    "# Division\n",
    "i = g // h\n",
    "print(\"Division:\",i)\n",
    " \n",
    "j = 3\n",
    "k = 5\n",
    " \n",
    "# Multiplication\n",
    "l = j * k\n",
    "print(\"Multiplication:\",l)\n",
    " \n",
    "m = 25\n",
    "n = 5\n",
    " \n",
    "# Modulus\n",
    "o = m % n\n",
    " \n",
    "print(\"Modulus:\",o)\n",
    " \n",
    "p = 6\n",
    "q = 2\n",
    " \n",
    "# Exponent\n",
    "r = p ** q\n",
    "print(\"Exponent:\",r)"
   ]
  },
  {
   "cell_type": "code",
   "execution_count": 15,
   "metadata": {},
   "outputs": [
    {
     "name": "stdout",
     "output_type": "stream",
     "text": [
      "7\n"
     ]
    }
   ],
   "source": [
    "m=14\n",
    "n=2\n",
    "o=m//n\n",
    "print(o)"
   ]
  },
  {
   "cell_type": "code",
   "execution_count": 16,
   "metadata": {},
   "outputs": [
    {
     "name": "stdout",
     "output_type": "stream",
     "text": [
      "196\n"
     ]
    }
   ],
   "source": [
    "m=14\n",
    "n=2\n",
    "o=m**n\n",
    "print(o)"
   ]
  },
  {
   "attachments": {},
   "cell_type": "markdown",
   "metadata": {},
   "source": [
    "float\n"
   ]
  },
  {
   "cell_type": "code",
   "execution_count": 18,
   "metadata": {},
   "outputs": [
    {
     "name": "stdout",
     "output_type": "stream",
     "text": [
      "<class 'float'>\n"
     ]
    }
   ],
   "source": [
    "a=5.5\n",
    "print(type(a))"
   ]
  },
  {
   "cell_type": "code",
   "execution_count": 19,
   "metadata": {},
   "outputs": [
    {
     "name": "stdout",
     "output_type": "stream",
     "text": [
      "Addition: 8.7\n",
      "Subtraction: 2.3\n",
      "Division: 1.71875\n",
      "Multiplication: 17.6\n"
     ]
    }
   ],
   "source": [
    "a = 5.5\n",
    "b = 3.2\n",
    "\n",
    "# Addition\n",
    "c = a + b\n",
    "print(\"Addition:\", c)\n",
    "\n",
    "# Subtraction\n",
    "c = a-b\n",
    "print(\"Subtraction:\", c)\n",
    "\n",
    "# Division\n",
    "c = a/b\n",
    "print(\"Division:\", c)\n",
    "\n",
    "# Multiplication\n",
    "c = a*b\n",
    "print(\"Multiplication:\", c)\n"
   ]
  },
  {
   "attachments": {},
   "cell_type": "markdown",
   "metadata": {},
   "source": [
    "complex"
   ]
  },
  {
   "cell_type": "code",
   "execution_count": 20,
   "metadata": {},
   "outputs": [
    {
     "name": "stdout",
     "output_type": "stream",
     "text": [
      "<class 'complex'>\n"
     ]
    }
   ],
   "source": [
    "a=12+3j\n",
    "print(type(a))"
   ]
  },
  {
   "cell_type": "code",
   "execution_count": 21,
   "metadata": {},
   "outputs": [
    {
     "name": "stdout",
     "output_type": "stream",
     "text": [
      "Addition: (3+8j)\n",
      "Subtraction: (-1+8j)\n",
      "Division: (1.307692307692308+0.5384615384615384j)\n",
      "Multiplication: (-13+13j)\n"
     ]
    }
   ],
   "source": [
    "a = 1 + 5j\n",
    "b = 2 + 3j\n",
    "\n",
    "# Addition\n",
    "c = a + b\n",
    "print(\"Addition:\",c)\n",
    "\n",
    "d = 1 + 5j\n",
    "e = 2 - 3j\n",
    "\n",
    "# Subtraction\n",
    "f = d - e\n",
    "print(\"Subtraction:\",f)\n",
    "\n",
    "\n",
    "g = 1 + 5j\n",
    "h = 2 + 3j\n",
    "\n",
    "# Division\n",
    "i = g / h\n",
    "print(\"Division:\",i)\n",
    "\n",
    "\n",
    "j = 1 + 5j\n",
    "k = 2 + 3j\n",
    "\n",
    "# Multiplication\n",
    "l = j * k\n",
    "print(\"Multiplication:\",l)\n"
   ]
  },
  {
   "attachments": {},
   "cell_type": "markdown",
   "metadata": {},
   "source": [
    "boolean"
   ]
  },
  {
   "cell_type": "code",
   "execution_count": 24,
   "metadata": {},
   "outputs": [
    {
     "name": "stdout",
     "output_type": "stream",
     "text": [
      "<class 'bool'>\n",
      "<class 'bool'>\n"
     ]
    },
    {
     "data": {
      "text/plain": [
       "False"
      ]
     },
     "execution_count": 24,
     "metadata": {},
     "output_type": "execute_result"
    }
   ],
   "source": [
    "#boolean\n",
    "a=True\n",
    "b=False\n",
    "print(type(a))\n",
    "print(type(b))\n",
    "b"
   ]
  },
  {
   "cell_type": "code",
   "execution_count": 25,
   "metadata": {},
   "outputs": [
    {
     "name": "stdout",
     "output_type": "stream",
     "text": [
      "False\n",
      "False\n",
      "False\n",
      "False\n",
      "False\n",
      "True\n"
     ]
    }
   ],
   "source": [
    "# Python program to illustrate\n",
    "# built-in method bool()\n",
    "\n",
    "# Returns False as x is not equal to y\n",
    "x = 5\n",
    "y = 10\n",
    "print(bool(x==y))\n",
    "\n",
    "# Returns False as x is None\n",
    "x = None\n",
    "print(bool(x))\n",
    "\n",
    "# Returns False as x is an empty sequence\n",
    "x = ()\n",
    "print(bool(x))\n",
    "\n",
    "# Returns False as x is an empty mapping\n",
    "x = {}\n",
    "print(bool(x))\n",
    "\n",
    "# Returns False as x is 0\n",
    "x = 0.0\n",
    "print(bool(x))\n",
    "\n",
    "# Returns True as x is a non empty string\n",
    "x = 'GeeksforGeeks'\n",
    "print(bool(x))\n"
   ]
  },
  {
   "cell_type": "code",
   "execution_count": 34,
   "metadata": {},
   "outputs": [
    {
     "name": "stdout",
     "output_type": "stream",
     "text": [
      " You need to eat some foods  True\n"
     ]
    }
   ],
   "source": [
    "user_input = bool(input(\"Are you hungry? True or false: \"))\n",
    "if user_input:\n",
    "\tprint(\" You need to eat some foods \")\n",
    "else:\n",
    "\tprint(\"Let's go for walk\",user_input)\n"
   ]
  },
  {
   "attachments": {},
   "cell_type": "markdown",
   "metadata": {},
   "source": [
    "Strings"
   ]
  },
  {
   "cell_type": "code",
   "execution_count": 1,
   "metadata": {},
   "outputs": [
    {
     "name": "stdout",
     "output_type": "stream",
     "text": [
      "<class 'str'>\n"
     ]
    }
   ],
   "source": [
    "str1=\"hello\"\n",
    "print(type(str1))\n"
   ]
  },
  {
   "cell_type": "code",
   "execution_count": 1,
   "metadata": {},
   "outputs": [
    {
     "name": "stdout",
     "output_type": "stream",
     "text": [
      "hello welcome\n"
     ]
    }
   ],
   "source": [
    "name =\"alex\"\n",
    "age=0\n",
    "\n",
    "if name ==\"alex\" or name==\"john\" and age>=2:\n",
    "    print(\"hello welcome\")\n",
    "else:\n",
    "    print(\"good bell\")"
   ]
  },
  {
   "cell_type": "code",
   "execution_count": 5,
   "metadata": {},
   "outputs": [
    {
     "name": "stdout",
     "output_type": "stream",
     "text": [
      "{'huli': 2, 'supriya': 1, 'vinaya': 3}\n"
     ]
    }
   ],
   "source": [
    "name =[\"huli\",\"supriya\",\"vinaya\"]\n",
    "roll_no=[2,1,3]\n",
    "mapped=zip(name,roll_no)\n",
    "print(dict(mapped))"
   ]
  },
  {
   "attachments": {},
   "cell_type": "markdown",
   "metadata": {},
   "source": [
    "functions\n"
   ]
  },
  {
   "cell_type": "code",
   "execution_count": 3,
   "metadata": {},
   "outputs": [
    {
     "name": "stdout",
     "output_type": "stream",
     "text": [
      "even\n"
     ]
    }
   ],
   "source": [
    "def func1(x):\n",
    "    if x % 2 == 0:\n",
    "        print(\"even\")\n",
    "    else:\n",
    "        print(\"odd\")\n",
    "func1(12)"
   ]
  },
  {
   "cell_type": "code",
   "execution_count": 5,
   "metadata": {},
   "outputs": [
    {
     "name": "stdout",
     "output_type": "stream",
     "text": [
      "odd\n"
     ]
    }
   ],
   "source": [
    "def fun():\n",
    "    a=int(input(\"enter the number\"))\n",
    "    if a % 2 == 0:\n",
    "        print(\"even\")\n",
    "    else:\n",
    "        print(\"odd\")\n",
    "fun()"
   ]
  },
  {
   "cell_type": "code",
   "execution_count": 7,
   "metadata": {},
   "outputs": [
    {
     "name": "stdout",
     "output_type": "stream",
     "text": [
      "odd\n"
     ]
    }
   ],
   "source": [
    "def fun(a):\n",
    "    if a%2==0:\n",
    "        return \"even\"\n",
    "    else:\n",
    "        return \"odd\"\n",
    "ans=fun(323)\n",
    "print(ans)"
   ]
  },
  {
   "cell_type": "code",
   "execution_count": 9,
   "metadata": {},
   "outputs": [
    {
     "name": "stdout",
     "output_type": "stream",
     "text": [
      "area of trangle : 33.3\n"
     ]
    }
   ],
   "source": [
    "# python program to find area of trangle\n",
    "b=float(input(\"enter the base\"))\n",
    "h=float(input(\"enter the height\"))\n",
    "area=0.5*b*h\n",
    "print(\"area of trangle :\",area)"
   ]
  },
  {
   "cell_type": "code",
   "execution_count": 10,
   "metadata": {},
   "outputs": [
    {
     "name": "stdout",
     "output_type": "stream",
     "text": [
      "3.495\n"
     ]
    }
   ],
   "source": [
    "def area():\n",
    "    b=float(input(\"enter the base\"))\n",
    "    h=float(input(\"enter the height\"))\n",
    "    area=0.5*b*h\n",
    "    return area\n",
    "\n",
    "ar=area()\n",
    "print(ar)"
   ]
  },
  {
   "attachments": {},
   "cell_type": "markdown",
   "metadata": {},
   "source": [
    "ENUMERATE"
   ]
  },
  {
   "cell_type": "code",
   "execution_count": 14,
   "metadata": {},
   "outputs": [
    {
     "name": "stdout",
     "output_type": "stream",
     "text": [
      "[(0, 'a'), (1, 'b'), (2, 'c')]\n",
      "0~a\n",
      "1~b\n",
      "2~c\n",
      "b\n",
      "b\n",
      "b\n"
     ]
    }
   ],
   "source": [
    "l1=['a','b','c']\n",
    "obj1= enumerate(l1)\n",
    "\n",
    "print(list(obj1))\n",
    "for i,j in enumerate(l1):\n",
    "    print(i,j,sep='~')\n",
    "    \n",
    "for i in l1:\n",
    "    print(l1[1])"
   ]
  },
  {
   "attachments": {},
   "cell_type": "markdown",
   "metadata": {},
   "source": [
    "list comprehension"
   ]
  },
  {
   "cell_type": "code",
   "execution_count": 18,
   "metadata": {},
   "outputs": [
    {
     "name": "stdout",
     "output_type": "stream",
     "text": [
      "[1, 2, 3, 4, 5, 6, 7, 8, 9, 10, 11, 12, 13]\n",
      "[1, 2, 3, 4, 5, 6, 7, 8, 9]\n"
     ]
    }
   ],
   "source": [
    "list1=[1,2,3,4,5,6,7,8,9,10,11,12,13]\n",
    "print(list1)\n",
    "\n",
    "new_old_list =[i for i in list1 if i<10]\n",
    "print(new_old_list)"
   ]
  },
  {
   "cell_type": "code",
   "execution_count": 28,
   "metadata": {},
   "outputs": [
    {
     "name": "stdout",
     "output_type": "stream",
     "text": [
      "[[0, 1, 2, 3], [0, 1, 2, 3], [0, 1, 2, 3]]\n"
     ]
    }
   ],
   "source": [
    "list2=[[j for j in range(4)]for i in range(3)]\n",
    "print(list2)"
   ]
  },
  {
   "cell_type": "code",
   "execution_count": 33,
   "metadata": {},
   "outputs": [
    {
     "name": "stdout",
     "output_type": "stream",
     "text": [
      "[7.5, 9.0, 10.5, 12.0]\n"
     ]
    }
   ],
   "source": [
    "custome_list=[(i/2)*3 for i in range(10) if i>4 and i<9]\n",
    "print(custome_list)"
   ]
  },
  {
   "cell_type": "code",
   "execution_count": 30,
   "metadata": {},
   "outputs": [
    {
     "name": "stdout",
     "output_type": "stream",
     "text": [
      "[7.5, 9.0, 10.5, 12.0]\n"
     ]
    }
   ],
   "source": [
    "list1=[]\n",
    "for i in range(10):\n",
    "    if i>4 and i<9:\n",
    "        exp=(i/2)*3\n",
    "        list1.append(exp)\n",
    "print(list1)"
   ]
  },
  {
   "cell_type": "code",
   "execution_count": 35,
   "metadata": {},
   "outputs": [
    {
     "name": "stdout",
     "output_type": "stream",
     "text": [
      "0    0\n",
      "0    1\n",
      "0    2\n",
      "0    3\n",
      "0    4\n",
      "1    0\n",
      "1    1\n",
      "1    2\n",
      "1    3\n",
      "1    4\n",
      "2    0\n",
      "2    1\n",
      "2    2\n",
      "2    3\n",
      "2    4\n"
     ]
    }
   ],
   "source": [
    "for i in range(3):\n",
    "    for j in range(5):\n",
    "        print(i,j,sep='    ')"
   ]
  },
  {
   "cell_type": "code",
   "execution_count": 39,
   "metadata": {},
   "outputs": [
    {
     "name": "stdout",
     "output_type": "stream",
     "text": [
      "[[0, 1, 2, 3, 4], [0, 1, 2, 3, 4], [0, 1, 2, 3, 4]]\n"
     ]
    }
   ],
   "source": [
    "list3=[]\n",
    "for i in range(3):\n",
    "    list3.append([])\n",
    "    for j in range(5):\n",
    "        list3[i].append(j) \n",
    "    \n",
    "print(list3)"
   ]
  },
  {
   "cell_type": "code",
   "execution_count": 19,
   "metadata": {},
   "outputs": [
    {
     "name": "stdout",
     "output_type": "stream",
     "text": [
      "the simple interest 5000.0\n",
      "the time preiod 5\n",
      "the rste of interest 25.0\n",
      "simple interest is 6250.0\n",
      "the simple interest 3000\n",
      "the time preiod 12\n",
      "the rste of interest 2\n",
      "Compound interest is 804.7253836876366\n"
     ]
    }
   ],
   "source": [
    "    def simpleinterest(p,t,r):\n",
    "        print('the simple interest',p)\n",
    "        print('the time preiod',t)\n",
    "        print('the rste of interest',r)\n",
    "        \n",
    "        si=(p*t*r)/100\n",
    "\n",
    "        print('simple interest is',si)\n",
    "\n",
    "    P=float(input(\"enter the principle amount\"))\n",
    "    T=int(input(\"enter the time period\"))\n",
    "    R=float(input(\"enter the rate\"))\n",
    "    simpleinterest(P,T,R)\n",
    "\n",
    "    def compound_interest(principal, rate, time): \n",
    "        print('the simple interest',principal)\n",
    "        print('the time preiod',time)\n",
    "        print('the rste of interest',rate)\n",
    "        Amount = principal * (pow((1 + rate / 100), time)) \n",
    "        CI = Amount - principal \n",
    "        print(\"Compound interest is\", CI) \n",
    "\n",
    "    principal = int(input(\"Enter the principal amount: \")) \n",
    "    rate = int(input(\"Enter rate of interest: \")) \n",
    "    time = int(input(\"Enter time in years: \" ))  \n",
    "\n",
    "    compound_interest(principal,rate,time)"
   ]
  },
  {
   "cell_type": "code",
   "execution_count": 11,
   "metadata": {},
   "outputs": [
    {
     "name": "stdout",
     "output_type": "stream",
     "text": [
      "Enter the principle amount: 100000.0\n",
      "Enter the no of Months: 120.0\n",
      "Enter the annual interest rate:  7.0\n",
      "MONTHLY EMi is 1161.0847921862376\n"
     ]
    }
   ],
   "source": [
    "def EMI(p,t,r):\n",
    "    print('Enter the principle amount:',p)\n",
    "    print('Enter the no of Months:',t)\n",
    "    print('Enter the annual interest rate: ',r)\n",
    "    r=R/(12*100)\n",
    "    emi=p*r*((1+r)**t)/((1+r)**t-1)\n",
    "\n",
    "    print('MONTHLY EMi is',emi)\n",
    "\n",
    "P=float(input(\"enter the principle amount\"))\n",
    "T=float(input(\"enter the time period\"))\n",
    "R=float(input(\"enter the rate\"))\n",
    "\n",
    "EMI(P,T,R)"
   ]
  }
 ],
 "metadata": {
  "kernelspec": {
   "display_name": "base",
   "language": "python",
   "name": "python3"
  },
  "language_info": {
   "codemirror_mode": {
    "name": "ipython",
    "version": 3
   },
   "file_extension": ".py",
   "mimetype": "text/x-python",
   "name": "python",
   "nbconvert_exporter": "python",
   "pygments_lexer": "ipython3",
   "version": "3.9.13"
  },
  "orig_nbformat": 4,
  "vscode": {
   "interpreter": {
    "hash": "ad2bdc8ecc057115af97d19610ffacc2b4e99fae6737bb82f5d7fb13d2f2c186"
   }
  }
 },
 "nbformat": 4,
 "nbformat_minor": 2
}
