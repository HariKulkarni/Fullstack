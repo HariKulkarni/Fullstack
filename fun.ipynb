{
 "cells": [
  {
   "cell_type": "code",
   "execution_count": 4,
   "metadata": {},
   "outputs": [
    {
     "name": "stdout",
     "output_type": "stream",
     "text": [
      "2 is the even number\n"
     ]
    }
   ],
   "source": [
    "def main():\n",
    "    even(2)\n",
    "    odd(55)\n",
    "\n",
    "def even(n):\n",
    "    if n % 2 == 0 :\n",
    "        print(n,\"is the even number\")\n",
    "\n",
    "def odd(n):\n",
    "    if n % 2 != 0 :\n",
    "        print(n,\"is the odd number\")\n",
    "        \n",
    "main()"
   ]
  },
  {
   "cell_type": "code",
   "execution_count": null,
   "metadata": {},
   "outputs": [],
   "source": []
  }
 ],
 "metadata": {
  "kernelspec": {
   "display_name": "base",
   "language": "python",
   "name": "python3"
  },
  "language_info": {
   "codemirror_mode": {
    "name": "ipython",
    "version": 3
   },
   "file_extension": ".py",
   "mimetype": "text/x-python",
   "name": "python",
   "nbconvert_exporter": "python",
   "pygments_lexer": "ipython3",
   "version": "3.9.13"
  },
  "orig_nbformat": 4
 },
 "nbformat": 4,
 "nbformat_minor": 2
}
