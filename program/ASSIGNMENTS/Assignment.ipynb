{
 "cells": [
  {
   "attachments": {},
   "cell_type": "markdown",
   "metadata": {},
   "source": [
    "Assignment on function"
   ]
  },
  {
   "cell_type": "code",
   "execution_count": 1,
   "metadata": {},
   "outputs": [
    {
     "name": "stdout",
     "output_type": "stream",
     "text": [
      "2 is the even number\n",
      "55 is the odd number\n"
     ]
    }
   ],
   "source": [
    "def main():\n",
    "    even(2)\n",
    "    odd(55)\n",
    "\n",
    "def even(n):\n",
    "    if n % 2 == 0 :\n",
    "        print(n,\"is the even number\")\n",
    "\n",
    "def odd(n):\n",
    "    if n % 2 != 0 :\n",
    "        print(n,\"is the odd number\")\n",
    "        \n",
    "main()"
   ]
  },
  {
   "cell_type": "code",
   "execution_count": 2,
   "metadata": {},
   "outputs": [
    {
     "name": "stdout",
     "output_type": "stream",
     "text": [
      "1060.0\n"
     ]
    }
   ],
   "source": [
    "def addinterest(balance,rate):\n",
    "    newbalance=balance*(1+rate)\n",
    "    return newbalance\n",
    "\n",
    "def main():\n",
    "    amount=1000\n",
    "    rate=0.06\n",
    "    amount= addinterest(amount,rate)\n",
    "    print(amount)\n",
    "\n",
    "main()\n",
    "    "
   ]
  },
  {
   "attachments": {},
   "cell_type": "markdown",
   "metadata": {},
   "source": [
    "Assignment on list \n",
    "\n",
    "using sum()"
   ]
  },
  {
   "cell_type": "code",
   "execution_count": 3,
   "metadata": {},
   "outputs": [
    {
     "name": "stdout",
     "output_type": "stream",
     "text": [
      "25\n",
      "35\n"
     ]
    }
   ],
   "source": [
    "numbers = [1,2,3,4,5,1,4,5]\n",
    "\n",
    "Sum = sum(numbers)\n",
    "print(Sum)\n",
    "\n",
    "Sum = sum(numbers, 10)\n",
    "print(Sum)"
   ]
  },
  {
   "cell_type": "code",
   "execution_count": 4,
   "metadata": {},
   "outputs": [
    {
     "name": "stdout",
     "output_type": "stream",
     "text": [
      "3.125\n"
     ]
    }
   ],
   "source": [
    "\n",
    "numbers = [1,2,3,4,5,1,4,5]\n",
    "\n",
    "Sum = sum(numbers)\n",
    "average= Sum/len(numbers)\n",
    "print (average)"
   ]
  },
  {
   "attachments": {},
   "cell_type": "markdown",
   "metadata": {},
   "source": [
    "clear()"
   ]
  },
  {
   "cell_type": "code",
   "execution_count": 15,
   "metadata": {},
   "outputs": [
    {
     "name": "stdout",
     "output_type": "stream",
     "text": [
      "List elements after extending are : 2 1 3 5 6 4 3 \n",
      "List elements after clearing are : "
     ]
    }
   ],
   "source": [
    "lis1 = [2, 1, 3, 5]\n",
    "\n",
    "lis2 = [6, 4, 3]\n",
    "\n",
    "lis1.extend(lis2)  \n",
    "print (\"List elements after extending are : \", end=\"\") \n",
    "for i in range(0, len(lis1)):\n",
    "    print(lis1[i], end=\" \") \n",
    "lis1.clear()\n",
    "print (\"\\nList elements after clearing are : \", end=\"\")\n"
   ]
  },
  {
   "attachments": {},
   "cell_type": "markdown",
   "metadata": {},
   "source": [
    "Assignment on tuples"
   ]
  },
  {
   "cell_type": "code",
   "execution_count": 16,
   "metadata": {},
   "outputs": [
    {
     "name": "stdout",
     "output_type": "stream",
     "text": [
      "Tuple 1: \n",
      "(0, 1, 2, 3)\n",
      "\n",
      "Tuple2: \n",
      "('KEONICS', 'HUBBALLI')\n",
      "\n",
      "Tuples after Concatenation: \n",
      "(0, 1, 2, 3, 'KEONICS', 'HUBBALLI')\n"
     ]
    }
   ],
   "source": [
    "Tuple1 = (0, 1, 2, 3)\n",
    "Tuple2 = ('KEONICS', 'HUBBALLI')\n",
    "\n",
    "Tuple3 = Tuple1 + Tuple2\n",
    "\n",
    "print(\"Tuple 1: \")\n",
    "print(Tuple1)\n",
    "\n",
    "print(\"\\nTuple2: \")\n",
    "print(Tuple2)\n",
    "\n",
    "print(\"\\nTuples after Concatenation: \")\n",
    "print(Tuple3)"
   ]
  },
  {
   "cell_type": "code",
   "execution_count": 17,
   "metadata": {},
   "outputs": [
    {
     "name": "stdout",
     "output_type": "stream",
     "text": [
      "str to tuple: ('K', 'E', 'O', 'N', 'I', 'C', 'S', ' ', 'H', 'U', 'B', 'B', 'A', 'L', 'L', 'I', ' ')\n"
     ]
    }
   ],
   "source": [
    "string = \"KEONICS HUBBALLI\"; \n",
    "\n",
    "tuple1 = tuple(string)\n",
    "\n",
    "print(\"str to tuple:\", tuple1)\n",
    " "
   ]
  }
 ],
 "metadata": {
  "kernelspec": {
   "display_name": "base",
   "language": "python",
   "name": "python3"
  },
  "language_info": {
   "codemirror_mode": {
    "name": "ipython",
    "version": 3
   },
   "file_extension": ".py",
   "mimetype": "text/x-python",
   "name": "python",
   "nbconvert_exporter": "python",
   "pygments_lexer": "ipython3",
   "version": "3.9.13"
  },
  "orig_nbformat": 4
 },
 "nbformat": 4,
 "nbformat_minor": 2
}
