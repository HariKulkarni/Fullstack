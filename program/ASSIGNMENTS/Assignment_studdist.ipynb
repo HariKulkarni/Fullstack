{
 "cells": [
  {
   "cell_type": "code",
   "execution_count": 1,
   "metadata": {},
   "outputs": [
    {
     "name": "stdout",
     "output_type": "stream",
     "text": [
      "   roll no student_name  marks\n",
      "0        1      supriya    100\n",
      "1        2    huligemma     98\n",
      "2        3       harish     99\n",
      "3        4         abhi     87\n",
      "4        5       jeevan     89\n"
     ]
    }
   ],
   "source": [
    "import pandas as pd\n",
    "student ={\"roll no\":[1,2,3,4,5],\n",
    "          \"student_name\":[\"supriya\",\"huligemma\",\"harish\",\"abhi\",\"jeevan\"],\n",
    "          \"marks\":[100,98,99,87,89]\n",
    "          }\n",
    "stud=pd.DataFrame(student)\n",
    "print(stud)\n"
   ]
  },
  {
   "cell_type": "code",
   "execution_count": 2,
   "metadata": {},
   "outputs": [
    {
     "name": "stdout",
     "output_type": "stream",
     "text": [
      "roll no               1\n",
      "student_name    supriya\n",
      "marks               100\n",
      "Name: 0, dtype: object\n"
     ]
    }
   ],
   "source": [
    "print(stud.loc[0])"
   ]
  },
  {
   "cell_type": "code",
   "execution_count": 3,
   "metadata": {},
   "outputs": [
    {
     "name": "stdout",
     "output_type": "stream",
     "text": [
      "roll no                 2\n",
      "student_name    huligemma\n",
      "marks                  98\n",
      "Name: 1, dtype: object\n",
      "roll no              3\n",
      "student_name    harish\n",
      "marks               99\n",
      "Name: 2, dtype: object\n"
     ]
    }
   ],
   "source": [
    "print(stud.loc[1])\n",
    "print(stud.loc[2])"
   ]
  },
  {
   "cell_type": "code",
   "execution_count": 5,
   "metadata": {},
   "outputs": [
    {
     "name": "stdout",
     "output_type": "stream",
     "text": [
      "   marks student_name\n",
      "0    100      supriya\n",
      "1     98    huligemma\n",
      "2     99       harish\n",
      "3     87         abhi\n",
      "4     89       jeevan\n"
     ]
    }
   ],
   "source": [
    "print(stud[['marks','student_name']])"
   ]
  }
 ],
 "metadata": {
  "kernelspec": {
   "display_name": "base",
   "language": "python",
   "name": "python3"
  },
  "language_info": {
   "codemirror_mode": {
    "name": "ipython",
    "version": 3
   },
   "file_extension": ".py",
   "mimetype": "text/x-python",
   "name": "python",
   "nbconvert_exporter": "python",
   "pygments_lexer": "ipython3",
   "version": "3.9.13"
  },
  "orig_nbformat": 4
 },
 "nbformat": 4,
 "nbformat_minor": 2
}
