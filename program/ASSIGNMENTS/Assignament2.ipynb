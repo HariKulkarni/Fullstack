{
 "cells": [
  {
   "attachments": {},
   "cell_type": "markdown",
   "metadata": {},
   "source": [
    "set()"
   ]
  },
  {
   "cell_type": "code",
   "execution_count": 1,
   "metadata": {},
   "outputs": [
    {
     "name": "stdout",
     "output_type": "stream",
     "text": [
      "{'b', 'c', 'a'}\n",
      "{'d', 'b', 'c', 'a'}\n"
     ]
    }
   ],
   "source": [
    "#typecasting list to set\n",
    "myset=set([\"a\",\"b\",\"c\"])\n",
    "print(myset)\n",
    "\n",
    "#set takes only one argument\n",
    "myset.add(\"d\")\n",
    "print(myset)"
   ]
  },
  {
   "cell_type": "code",
   "execution_count": 2,
   "metadata": {},
   "outputs": [
    {
     "name": "stdout",
     "output_type": "stream",
     "text": [
      "{'welcome', 'world', 'to', 'python'}\n"
     ]
    }
   ],
   "source": [
    "myset={\"python\",\"welcome\",\"to\",\"world\",\"python\"}\n",
    "print(myset)"
   ]
  },
  {
   "cell_type": "code",
   "execution_count": 3,
   "metadata": {},
   "outputs": [
    {
     "name": "stdout",
     "output_type": "stream",
     "text": [
      "{False, 1, 2.3, 3, 'MOM', 8, 'DAD'}\n"
     ]
    }
   ],
   "source": [
    "myset={\"MOM\",\"DAD\",8,1,3,2.3,False}\n",
    "print(myset)"
   ]
  },
  {
   "cell_type": "code",
   "execution_count": 6,
   "metadata": {},
   "outputs": [
    {
     "name": "stdout",
     "output_type": "stream",
     "text": [
      "{'keonics', 'training'}\n",
      "{'o', 'l', 'e', 'h'}\n"
     ]
    }
   ],
   "source": [
    "set={\"keonics\",\"training\",\"keonics\"} # A set cannot have duplicate values\n",
    "print(set)\n",
    "set={\"h\",\"e\",\"l\",\"l\",\"o\"}\n",
    "print(set)"
   ]
  },
  {
   "cell_type": "code",
   "execution_count": 5,
   "metadata": {},
   "outputs": [
    {
     "name": "stdout",
     "output_type": "stream",
     "text": [
      "{'come', 'center', 'hi', 'well', 'to', 'keonics', 'traning'}\n"
     ]
    }
   ],
   "source": [
    "#  A set can store hetrogeneous elements \n",
    "\n",
    "myset={\"hi\",\"well\",\"come\",\"to\",\"keonics\",\"traning\",\"center\"}\n",
    "print(myset)"
   ]
  },
  {
   "cell_type": "code",
   "execution_count": 7,
   "metadata": {},
   "outputs": [
    {
     "name": "stdout",
     "output_type": "stream",
     "text": [
      "{'kulkarni', 'harish', 'k'}\n"
     ]
    }
   ],
   "source": [
    "# Adding a string in a set\n",
    "set ={\"harish\",\"kulkarni\"}\n",
    "set.add(\"k\")\n",
    "print(set)"
   ]
  },
  {
   "cell_type": "code",
   "execution_count": 9,
   "metadata": {},
   "outputs": [
    {
     "name": "stdout",
     "output_type": "stream",
     "text": [
      "{'banana', 'google', 'graps', 'apple'}\n"
     ]
    }
   ],
   "source": [
    "# using update in set\n",
    "set1={'banana','graps'}\n",
    "set2={'apple','google','apple'}\n",
    "\n",
    "set1.update(set2)\n",
    "\n",
    "print(set1)"
   ]
  },
  {
   "cell_type": "code",
   "execution_count": 10,
   "metadata": {},
   "outputs": [
    {
     "name": "stdout",
     "output_type": "stream",
     "text": [
      "{'kulkarni', 'harish'}\n"
     ]
    }
   ],
   "source": [
    "# Adding a string in a set\n",
    "set ={\"harish\",\"kulkarni\",\"k\"}\n",
    "set.discard(\"k\")\n",
    "print(set)"
   ]
  },
  {
   "cell_type": "code",
   "execution_count": 11,
   "metadata": {},
   "outputs": [
    {
     "name": "stdout",
     "output_type": "stream",
     "text": [
      "9\n"
     ]
    }
   ],
   "source": [
    "# Find Number of set Elements     #it will not count repeated value again and again\n",
    "set_number={1,2,3,4,5,6,7,8,9,1,2,3}\n",
    "print(len(set_number))"
   ]
  },
  {
   "cell_type": "code",
   "execution_count": 12,
   "metadata": {},
   "outputs": [
    {
     "name": "stdout",
     "output_type": "stream",
     "text": [
      "{2, 5}\n"
     ]
    }
   ],
   "source": [
    "# Using intersection in set  # it will just take (common) values\n",
    "set1={1,2,3,4,5}\n",
    "set2={7,6,2,5,8}\n",
    "print(set1.intersection(set2))"
   ]
  },
  {
   "cell_type": "code",
   "execution_count": 13,
   "metadata": {},
   "outputs": [
    {
     "name": "stdout",
     "output_type": "stream",
     "text": [
      "{1, 3, 4, 6, 7, 8}\n"
     ]
    }
   ],
   "source": [
    "#  Using Symmetric_difference in set  #the common values will not print\n",
    "setA={1,2,3,4,5}\n",
    "setB={7,6,2,5,8}\n",
    "print(setA.symmetric_difference(setB))"
   ]
  },
  {
   "attachments": {},
   "cell_type": "markdown",
   "metadata": {},
   "source": [
    "Dictionary\n"
   ]
  },
  {
   "cell_type": "code",
   "execution_count": 15,
   "metadata": {},
   "outputs": [
    {
     "name": "stdout",
     "output_type": "stream",
     "text": [
      "<class 'dict'>\n"
     ]
    }
   ],
   "source": [
    "#  <class type>(dictionary)\n",
    "dict={}\n",
    "print(type(dict))"
   ]
  },
  {
   "cell_type": "code",
   "execution_count": 16,
   "metadata": {},
   "outputs": [
    {
     "data": {
      "text/plain": [
       "{'name': 'harish', 'from': 'hubli'}"
      ]
     },
     "execution_count": 16,
     "metadata": {},
     "output_type": "execute_result"
    }
   ],
   "source": [
    "\n",
    "# simple progam to print dictionary\n",
    "dict = {\"name\":(\"harish\"),\"from\":(\"hubli\")}\n",
    "dict"
   ]
  },
  {
   "cell_type": "code",
   "execution_count": 17,
   "metadata": {},
   "outputs": [
    {
     "name": "stdout",
     "output_type": "stream",
     "text": [
      "Empty Dictionary: \n",
      "{}\n"
     ]
    }
   ],
   "source": [
    "# Creating an empty Dictionary\n",
    "Dict = {}\n",
    "print(\"Empty Dictionary: \")\n",
    "print(Dict)"
   ]
  },
  {
   "cell_type": "code",
   "execution_count": 18,
   "metadata": {},
   "outputs": [
    {
     "name": "stdout",
     "output_type": "stream",
     "text": [
      "{'name': 'harish', 'from': 'hubli', 0: 'harish', 1: 'h', 2: 'kulkarni', 3: {'is': 1, 'student': 2, 'keonics': 3}}\n",
      "kulkarni\n"
     ]
    }
   ],
   "source": [
    "{}\n",
    "#  Adding element in empty dictionary\n",
    "\n",
    "dict[0] = 'harish'\n",
    "dict[1] = 'h'\n",
    "dict[2] = 'kulkarni'\n",
    "\n",
    "# Adding Nested Key value to Dictionary\n",
    "dict[3]={'is':1,'student':2,'keonics':3}\n",
    "print(dict)\n",
    "\n",
    "# accessing a element using key\n",
    "print(dict[2])"
   ]
  }
 ],
 "metadata": {
  "kernelspec": {
   "display_name": "base",
   "language": "python",
   "name": "python3"
  },
  "language_info": {
   "codemirror_mode": {
    "name": "ipython",
    "version": 3
   },
   "file_extension": ".py",
   "mimetype": "text/x-python",
   "name": "python",
   "nbconvert_exporter": "python",
   "pygments_lexer": "ipython3",
   "version": "3.9.13"
  },
  "orig_nbformat": 4
 },
 "nbformat": 4,
 "nbformat_minor": 2
}
