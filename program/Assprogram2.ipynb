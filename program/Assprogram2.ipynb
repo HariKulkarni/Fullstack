{
 "cells": [
  {
   "attachments": {},
   "cell_type": "markdown",
   "metadata": {},
   "source": [
    "Area of circle"
   ]
  },
  {
   "cell_type": "code",
   "execution_count": 2,
   "metadata": {},
   "outputs": [
    {
     "name": "stdout",
     "output_type": "stream",
     "text": [
      "AREA OF CIRCLE 78.55\n"
     ]
    }
   ],
   "source": [
    "def area():\n",
    "    r=float(input(\"enter the Radius\"))\n",
    "    area=(3.142*r*r)\n",
    "    return area\n",
    "\n",
    "ar=area()\n",
    "print(\"AREA OF CIRCLE\",ar)"
   ]
  },
  {
   "attachments": {},
   "cell_type": "markdown",
   "metadata": {},
   "source": [
    "Swap two numbers"
   ]
  },
  {
   "cell_type": "code",
   "execution_count": 11,
   "metadata": {},
   "outputs": [
    {
     "name": "stdout",
     "output_type": "stream",
     "text": [
      "before swapping 5 66\n",
      "after swapping 66 5\n"
     ]
    }
   ],
   "source": [
    "def swap():\n",
    "    a=int(input(\"enter the no a\"))\n",
    "    b=int(input(\"enter the no b\"))\n",
    "    print(\"before swapping\",a,b)\n",
    "    tm=a\n",
    "    a=b\n",
    "    b=tm\n",
    "    print(\"after swapping\",a,b)\n",
    "swap()\n",
    "    "
   ]
  },
  {
   "attachments": {},
   "cell_type": "markdown",
   "metadata": {},
   "source": [
    "Kilometer to miles"
   ]
  },
  {
   "cell_type": "code",
   "execution_count": 16,
   "metadata": {},
   "outputs": [
    {
     "name": "stdout",
     "output_type": "stream",
     "text": [
      "15.525\n"
     ]
    }
   ],
   "source": [
    "def km_miles():\n",
    "    k=float(input(\"Enter the kilometer\"))\n",
    "    #1km=0.621miles\n",
    "    miles=k*0.621\n",
    "    return miles\n",
    "\n",
    "result=km_miles()\n",
    "print(result)"
   ]
  }
 ],
 "metadata": {
  "kernelspec": {
   "display_name": "base",
   "language": "python",
   "name": "python3"
  },
  "language_info": {
   "codemirror_mode": {
    "name": "ipython",
    "version": 3
   },
   "file_extension": ".py",
   "mimetype": "text/x-python",
   "name": "python",
   "nbconvert_exporter": "python",
   "pygments_lexer": "ipython3",
   "version": "3.9.13"
  },
  "orig_nbformat": 4
 },
 "nbformat": 4,
 "nbformat_minor": 2
}
