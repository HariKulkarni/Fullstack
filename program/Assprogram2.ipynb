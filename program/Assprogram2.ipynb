{
 "cells": [
  {
   "attachments": {},
   "cell_type": "markdown",
   "metadata": {},
   "source": [
    "1)python program to add two numbers"
   ]
  },
  {
   "cell_type": "code",
   "execution_count": null,
   "metadata": {},
   "outputs": [],
   "source": []
  },
  {
   "attachments": {},
   "cell_type": "markdown",
   "metadata": {},
   "source": [
    "2)Python programs to find square root "
   ]
  },
  {
   "cell_type": "code",
   "execution_count": null,
   "metadata": {},
   "outputs": [],
   "source": []
  },
  {
   "attachments": {},
   "cell_type": "markdown",
   "metadata": {},
   "source": [
    "3)AREA OF TRANGLE"
   ]
  },
  {
   "cell_type": "code",
   "execution_count": 1,
   "metadata": {},
   "outputs": [
    {
     "name": "stdout",
     "output_type": "stream",
     "text": [
      "AREA OF TRANGLE 5.0\n"
     ]
    }
   ],
   "source": [
    "def area():\n",
    "    b=float(input(\"enter the base\"))\n",
    "    h=float(input(\"enter the height\"))\n",
    "    area=0.5*b*h\n",
    "    return area\n",
    "\n",
    "ar=area()\n",
    "print(\"AREA OF TRANGLE\",ar)"
   ]
  },
  {
   "attachments": {},
   "cell_type": "markdown",
   "metadata": {},
   "source": [
    "4)SIMPLE INTEREST"
   ]
  },
  {
   "cell_type": "code",
   "execution_count": 2,
   "metadata": {},
   "outputs": [
    {
     "name": "stdout",
     "output_type": "stream",
     "text": [
      "the simple interest 1000.0\n",
      "the time preiod 2\n",
      "the rste of interest 5.0\n",
      "simple interest is 100.0\n"
     ]
    }
   ],
   "source": [
    "def simpleinterest(p,t,r):\n",
    "    print('the simple interest',p)\n",
    "    print('the time preiod',t)\n",
    "    print('the rste of interest',r)\n",
    "    \n",
    "    si=(p*t*r)/100\n",
    "\n",
    "    print('simple interest is',si)\n",
    "\n",
    "P=float(input(\"enter the principle amount\"))\n",
    "T=int(input(\"enter the time period\"))\n",
    "R=float(input(\"enter the rate\"))\n",
    "simpleinterest(P,T,R)"
   ]
  },
  {
   "attachments": {},
   "cell_type": "markdown",
   "metadata": {},
   "source": [
    "5)COMPOUND INTEREST"
   ]
  },
  {
   "cell_type": "code",
   "execution_count": 3,
   "metadata": {},
   "outputs": [
    {
     "name": "stdout",
     "output_type": "stream",
     "text": [
      "Compound interest is 104.08080319999999\n"
     ]
    }
   ],
   "source": [
    "def compound_interest(principal, rate, time): \n",
    "    Amount = principal * (pow((1 + rate / 100), time)) \n",
    "    CI = Amount - principal \n",
    "    print(\"Compound interest is\", CI) \n",
    "\n",
    "principal = int(input(\"Enter the principal amount: \")) \n",
    "rate = int(input(\"Enter rate of interest: \")) \n",
    "time = int(input(\"Enter time in years: \" ))  \n",
    "\n",
    "compound_interest(principal,rate,time)"
   ]
  },
  {
   "attachments": {},
   "cell_type": "markdown",
   "metadata": {},
   "source": [
    "6)Area of circle"
   ]
  },
  {
   "cell_type": "code",
   "execution_count": 2,
   "metadata": {},
   "outputs": [
    {
     "name": "stdout",
     "output_type": "stream",
     "text": [
      "AREA OF CIRCLE 78.55\n"
     ]
    }
   ],
   "source": [
    "def area():\n",
    "    r=float(input(\"enter the Radius\"))\n",
    "    area=(3.142*r*r)\n",
    "    return area\n",
    "\n",
    "ar=area()\n",
    "print(\"AREA OF CIRCLE\",ar)"
   ]
  },
  {
   "attachments": {},
   "cell_type": "markdown",
   "metadata": {},
   "source": [
    "7)Swap two numbers"
   ]
  },
  {
   "cell_type": "code",
   "execution_count": 11,
   "metadata": {},
   "outputs": [
    {
     "name": "stdout",
     "output_type": "stream",
     "text": [
      "before swapping 5 66\n",
      "after swapping 66 5\n"
     ]
    }
   ],
   "source": [
    "def swap():\n",
    "    a=int(input(\"enter the no a\"))\n",
    "    b=int(input(\"enter the no b\"))\n",
    "    print(\"before swapping\",a,b)\n",
    "    tm=a\n",
    "    a=b\n",
    "    b=tm\n",
    "    print(\"after swapping\",a,b)\n",
    "swap()\n",
    "    "
   ]
  },
  {
   "attachments": {},
   "cell_type": "markdown",
   "metadata": {},
   "source": [
    "9)Kilometer to miles"
   ]
  },
  {
   "cell_type": "code",
   "execution_count": 19,
   "metadata": {},
   "outputs": [
    {
     "name": "stdout",
     "output_type": "stream",
     "text": [
      "15.525\n"
     ]
    }
   ],
   "source": [
    "def km_miles():\n",
    "    k=float(input(\"Enter the kilometer\"))\n",
    "    #1km=0.621miles\n",
    "    miles=k*0.621\n",
    "    return miles\n",
    "\n",
    "result=km_miles()\n",
    "print(result)"
   ]
  },
  {
   "attachments": {},
   "cell_type": "markdown",
   "metadata": {},
   "source": [
    "10)Write a program to check the number record from the user is positive or negative"
   ]
  },
  {
   "cell_type": "code",
   "execution_count": 4,
   "metadata": {},
   "outputs": [
    {
     "name": "stdout",
     "output_type": "stream",
     "text": [
      "Entered Number is positive\n"
     ]
    }
   ],
   "source": [
    "number=int(input(\"enter any number\"))\n",
    "if number>0:\n",
    "    print(\"Entered Number is positive\")\n",
    "elif number<0:\n",
    "    print(\"Entered Number is Negative\")\n",
    "else:\n",
    "    print(\"Entered number is Zero\")"
   ]
  },
  {
   "attachments": {},
   "cell_type": "markdown",
   "metadata": {},
   "source": [
    "11)Python program to check number is Even Or Odd"
   ]
  },
  {
   "cell_type": "code",
   "execution_count": 5,
   "metadata": {},
   "outputs": [
    {
     "name": "stdout",
     "output_type": "stream",
     "text": [
      "odd\n"
     ]
    }
   ],
   "source": [
    "number=int(input(\"enter any number\"))\n",
    "if number%2==0:\n",
    "    print(\"Even\")\n",
    "else:\n",
    "    print(\"odd\")"
   ]
  },
  {
   "attachments": {},
   "cell_type": "markdown",
   "metadata": {},
   "source": [
    "12)Python program to find largest among three numbers"
   ]
  },
  {
   "cell_type": "code",
   "execution_count": 6,
   "metadata": {},
   "outputs": [
    {
     "name": "stdout",
     "output_type": "stream",
     "text": [
      "The largest element is 5\n"
     ]
    }
   ],
   "source": [
    "a=int(input(\"enter first number\"))\n",
    "b=int(input(\"enter second number\"))\n",
    "c=int(input(\"enter third number\"))\n",
    "if a>b and a>c:\n",
    "    print(\"The largest element is\",a)\n",
    "elif b>a and b>c:\n",
    "    print(\"The largest element is\",b)\n",
    "else:\n",
    "    print(\"The lagest element is\",c)"
   ]
  },
  {
   "attachments": {},
   "cell_type": "markdown",
   "metadata": {},
   "source": [
    "13)Python program to check prime number"
   ]
  },
  {
   "cell_type": "code",
   "execution_count": 31,
   "metadata": {},
   "outputs": [
    {
     "name": "stdout",
     "output_type": "stream",
     "text": [
      "1 is not a prime number\n"
     ]
    }
   ],
   "source": [
    "num = int(input(\"Enter a number: \"))\n",
    "\n",
    "flag = False\n",
    "\n",
    "if num == 1:\n",
    "    print(num, \"is not a prime number\")\n",
    "elif num > 1:\n",
    "    for i in range(2, num):\n",
    "        if (num % i) == 0:\n",
    "            flag = True\n",
    "            break\n",
    "\n",
    "    if flag:\n",
    "        print(num, \"is not a prime number\")\n",
    "    else:\n",
    "        print(num, \"is a prime number\")"
   ]
  },
  {
   "attachments": {},
   "cell_type": "markdown",
   "metadata": {},
   "source": [
    "14)Python program to print all prime numbers between 1 to 100"
   ]
  },
  {
   "cell_type": "code",
   "execution_count": 18,
   "metadata": {},
   "outputs": [
    {
     "name": "stdout",
     "output_type": "stream",
     "text": [
      "1\n",
      "2\n",
      "3\n",
      "5\n",
      "7\n",
      "11\n",
      "13\n"
     ]
    }
   ],
   "source": [
    "sta=int(input(\"enter starting range\"))\n",
    "end=int(input(\"enter last range\"))\n",
    "for x in range(sta,end):\n",
    "    prime=True\n",
    "    for i  in range(2,x):\n",
    "        if x%i==0:\n",
    "           prime=False\n",
    "    if prime == True:\n",
    "        print(x)"
   ]
  },
  {
   "attachments": {},
   "cell_type": "markdown",
   "metadata": {},
   "source": [
    "15)Python program to find the factorial of a number"
   ]
  },
  {
   "cell_type": "code",
   "execution_count": 21,
   "metadata": {},
   "outputs": [
    {
     "name": "stdout",
     "output_type": "stream",
     "text": [
      "Factorial of 5 is 120\n"
     ]
    }
   ],
   "source": [
    "fact=1\n",
    "num=int(input(\"enter any number\"))\n",
    "for i in range(1,num+1):\n",
    "    fact=fact*i\n",
    "print(\"Factorial of\",num,\"is\",fact)"
   ]
  },
  {
   "attachments": {},
   "cell_type": "markdown",
   "metadata": {},
   "source": [
    "16)Python progam to print Fibbonacci sequence"
   ]
  },
  {
   "cell_type": "code",
   "execution_count": 22,
   "metadata": {},
   "outputs": [
    {
     "name": "stdout",
     "output_type": "stream",
     "text": [
      "0\n",
      "1\n",
      "1\n",
      "2\n",
      "3\n",
      "5\n",
      "8\n"
     ]
    }
   ],
   "source": [
    "n1=0;n2=1\n",
    "n3=int(input(\"enter range\"))\n",
    "print(n1)\n",
    "print(n2)\n",
    "for i in range(1,n3+1):\n",
    "    n3=n2+n1\n",
    "    print(n3)\n",
    "    n1=n2\n",
    "    n2=n3"
   ]
  },
  {
   "attachments": {},
   "cell_type": "markdown",
   "metadata": {},
   "source": [
    "17)Python program to find numbers divisible by another number"
   ]
  },
  {
   "cell_type": "code",
   "execution_count": 23,
   "metadata": {},
   "outputs": [
    {
     "name": "stdout",
     "output_type": "stream",
     "text": [
      "The number is divisible\n"
     ]
    }
   ],
   "source": [
    "num1=float(input(\"enter first number\"))\n",
    "num2=float(input(\"enter second number\"))\n",
    "if num1%num2==0:\n",
    "    print(\"The number is divisible\")\n",
    "else:\n",
    "    print(\"The number is not divisible\")"
   ]
  },
  {
   "attachments": {},
   "cell_type": "markdown",
   "metadata": {},
   "source": [
    "18)Python program to convert Decimal to Binary ,Octal to Hexadecimal"
   ]
  },
  {
   "cell_type": "code",
   "execution_count": 24,
   "metadata": {},
   "outputs": [
    {
     "name": "stdout",
     "output_type": "stream",
     "text": [
      "0b10110 is the Binary value\n",
      "0x2d is a Hexadecimal value\n"
     ]
    }
   ],
   "source": [
    "decimal=int(input(\"enter decimal number\"))\n",
    "print(bin(decimal),\"is the Binary value\")\n",
    "octal=int(input(\"enter octal number\"))\n",
    "print(hex(octal),\"is a Hexadecimal value\")"
   ]
  },
  {
   "attachments": {},
   "cell_type": "markdown",
   "metadata": {},
   "source": [
    "19)Program to find Ascii value of cahracter"
   ]
  },
  {
   "cell_type": "code",
   "execution_count": 27,
   "metadata": {},
   "outputs": [
    {
     "name": "stdout",
     "output_type": "stream",
     "text": [
      "ASCII value of  A is 65\n"
     ]
    }
   ],
   "source": [
    "c=input(\"Enter a character\")\n",
    "print(\"ASCII value of \",c,\"is\",ord(c))"
   ]
  },
  {
   "attachments": {},
   "cell_type": "markdown",
   "metadata": {},
   "source": [
    "20)Program to find Factors of a number"
   ]
  },
  {
   "cell_type": "code",
   "execution_count": 28,
   "metadata": {},
   "outputs": [
    {
     "name": "stdout",
     "output_type": "stream",
     "text": [
      "factor of  24 is:\n",
      "1\n",
      "2\n",
      "3\n",
      "4\n",
      "6\n",
      "8\n",
      "12\n",
      "24\n"
     ]
    }
   ],
   "source": [
    "def fun_fact(n):\n",
    "    print(\"factor of \",n,\"is:\")\n",
    "    for i in range(1,n+1):\n",
    "        if n %i ==0:\n",
    "            print(i)\n",
    "        \n",
    "fun_fact(24)\n",
    "        "
   ]
  },
  {
   "attachments": {},
   "cell_type": "markdown",
   "metadata": {},
   "source": [
    "21)Python program to make a simple calculator"
   ]
  },
  {
   "cell_type": "code",
   "execution_count": 29,
   "metadata": {},
   "outputs": [
    {
     "name": "stdout",
     "output_type": "stream",
     "text": [
      "Addition of two numbers: 27\n",
      "Substraction of two number: -17\n",
      "Multiplication of two number: 110\n",
      "Division of two number: 0.22727272727272727\n",
      "Modulus of two is: 5\n"
     ]
    }
   ],
   "source": [
    "val1=int(input(\"enter a number\"))\n",
    "val2=int(input(\"enter number\"))\n",
    "print(\"Addition of two numbers:\",val1+val2)\n",
    "print(\"Substraction of two number:\",val1-val2)\n",
    "print(\"Multiplication of two number:\",val1*val2)\n",
    "print(\"Division of two number:\",val1/val2)\n",
    "print(\"Modulus of two is:\",val1%val2)"
   ]
  },
  {
   "attachments": {},
   "cell_type": "markdown",
   "metadata": {},
   "source": [
    "22)Python program to add two matrices"
   ]
  },
  {
   "cell_type": "code",
   "execution_count": 30,
   "metadata": {},
   "outputs": [
    {
     "name": "stdout",
     "output_type": "stream",
     "text": [
      "[2, 4, 6]\n",
      "[8, 10, 12]\n",
      "[14, 16, 18]\n"
     ]
    }
   ],
   "source": [
    "m1=[[1,2,3],[4,5,6],[7,8,9]]\n",
    "m2=[[1,2,3],[4,5,6],[7,8,9]]\n",
    "ans=[[m1[i][j]+m2[i][j]  for j in range(len(m1[0]))]\n",
    "    for i in range(len(m1))]\n",
    "\n",
    "for r in ans:\n",
    "    print(r)\n",
    "        "
   ]
  },
  {
   "attachments": {},
   "cell_type": "markdown",
   "metadata": {},
   "source": [
    "23)Python program to Transpose a matrix"
   ]
  },
  {
   "cell_type": "code",
   "execution_count": 32,
   "metadata": {},
   "outputs": [
    {
     "name": "stdout",
     "output_type": "stream",
     "text": [
      "[2, 4, 6]\n",
      "[3, 5, 7]\n"
     ]
    }
   ],
   "source": [
    "mat=[[2,3],[4,5],[6,7]]\n",
    "res=[[0,0,0],[0,0,0]]\n",
    "for i in range(len(mat)):\n",
    "    for j in range(len(mat[0])):\n",
    "        res[j][i]=mat[i][j]\n",
    "\n",
    "for r in res:\n",
    "    print(r)"
   ]
  },
  {
   "attachments": {},
   "cell_type": "markdown",
   "metadata": {},
   "source": [
    "24)Python program to multiply two matrices"
   ]
  },
  {
   "cell_type": "code",
   "execution_count": 33,
   "metadata": {},
   "outputs": [
    {
     "name": "stdout",
     "output_type": "stream",
     "text": [
      "Multiplied Matrix:\n",
      "[30, 36, 42]\n",
      "[66, 81, 96]\n",
      "[102, 126, 150]\n"
     ]
    }
   ],
   "source": [
    "A=[[1,2,3],[4,5,6],[7,8,9]]\n",
    "B=[[1,2,3],[4,5,6],[7,8,9]]\n",
    "res=[[0,0,0],[0,0,0],[0,0,0]]\n",
    "for i in range(len(A)):\n",
    "    for j in range(len(B[0])):\n",
    "        for k in range(len(B)):\n",
    "            res[i][j]=res[i][j]+A[i][k]*B[k][j]\n",
    "print('Multiplied Matrix:')\n",
    "for r in res:\n",
    "    print(r)"
   ]
  },
  {
   "attachments": {},
   "cell_type": "markdown",
   "metadata": {},
   "source": [
    "25)Python program to check whether a string is palindrome or not"
   ]
  },
  {
   "cell_type": "code",
   "execution_count": 34,
   "metadata": {},
   "outputs": [
    {
     "name": "stdout",
     "output_type": "stream",
     "text": [
      "Entered string is not  palindrome\n"
     ]
    }
   ],
   "source": [
    "def my_fun():\n",
    "    str=input(\"enter a Stirng\")\n",
    "    if str==str[::-1]:\n",
    "        print(\"Entered string is palindrome\")\n",
    "    else:\n",
    "        print(\"Entered string is not  palindrome\")\n",
    "        \n",
    "my_fun()"
   ]
  },
  {
   "attachments": {},
   "cell_type": "markdown",
   "metadata": {},
   "source": [
    "26)Python program to create pyramid patterns of numbers till 10"
   ]
  },
  {
   "cell_type": "code",
   "execution_count": 45,
   "metadata": {},
   "outputs": [
    {
     "name": "stdout",
     "output_type": "stream",
     "text": [
      "        *\n",
      "       ***\n",
      "      *****\n",
      "     *******\n",
      "    *********\n",
      "   ***********\n",
      "  *************\n",
      " ***************\n",
      "*****************\n"
     ]
    }
   ],
   "source": [
    "row=9\n",
    "k=0\n",
    "for i in range(1,row+1):\n",
    "    for space in range(1,(row-i)+1):\n",
    "        print(end=\" \")\n",
    "    \n",
    "    while k!=(2*i-1):\n",
    "        print(\"*\",end=\"\")\n",
    "        k=k+1\n",
    "    k=0    \n",
    "    print()"
   ]
  },
  {
   "attachments": {},
   "cell_type": "markdown",
   "metadata": {},
   "source": [
    "27)Python program to merge two dictionaries"
   ]
  },
  {
   "cell_type": "code",
   "execution_count": 36,
   "metadata": {},
   "outputs": [
    {
     "name": "stdout",
     "output_type": "stream",
     "text": [
      "{1: 'apple', 2: 'iphone', 3: 'samsung', 4: 'realme'}\n"
     ]
    }
   ],
   "source": [
    "dic1={1:'apple',2:'iphone'}\n",
    "dic2={3:'samsung',4:'realme'}\n",
    "print({**dic1,**dic2})"
   ]
  },
  {
   "attachments": {},
   "cell_type": "markdown",
   "metadata": {},
   "source": [
    "28)Python program to access index of a list using for loop"
   ]
  },
  {
   "cell_type": "code",
   "execution_count": 37,
   "metadata": {},
   "outputs": [
    {
     "name": "stdout",
     "output_type": "stream",
     "text": [
      "0 4\n",
      "1 2\n",
      "2 6\n",
      "3 1\n",
      "4 9\n"
     ]
    }
   ],
   "source": [
    "list=[4,2,6,1,9]\n",
    "for index in range(len(list)):\n",
    "    val=list[index]\n",
    "    print(index,val)"
   ]
  },
  {
   "attachments": {},
   "cell_type": "markdown",
   "metadata": {},
   "source": [
    "29)Python program to concatenate two lists"
   ]
  },
  {
   "cell_type": "code",
   "execution_count": 38,
   "metadata": {},
   "outputs": [
    {
     "name": "stdout",
     "output_type": "stream",
     "text": [
      "Concatination of two list is:[1, 4, 7, 9, 2, 3, 5, 6]\n"
     ]
    }
   ],
   "source": [
    "list1=[1,4,7,9]\n",
    "list2=[2,3,5,6]\n",
    "list3=list1+list2\n",
    "print(\"Concatination of two list is:\" +str(list3))"
   ]
  },
  {
   "attachments": {},
   "cell_type": "markdown",
   "metadata": {},
   "source": [
    "30)Python program to get the last element of the list"
   ]
  },
  {
   "cell_type": "code",
   "execution_count": 39,
   "metadata": {},
   "outputs": [
    {
     "name": "stdout",
     "output_type": "stream",
     "text": [
      "9\n"
     ]
    }
   ],
   "source": [
    "my_list=[3,2,5,1,9]\n",
    "ele=list[-1]\n",
    "print(ele)\n"
   ]
  },
  {
   "attachments": {},
   "cell_type": "markdown",
   "metadata": {},
   "source": [
    "31)Python program to Randomly select an element from the list"
   ]
  },
  {
   "cell_type": "code",
   "execution_count": 40,
   "metadata": {},
   "outputs": [
    {
     "name": "stdout",
     "output_type": "stream",
     "text": [
      "[4, 7, 5, 3]\n"
     ]
    }
   ],
   "source": [
    "import random\n",
    "\n",
    "list=[4,3,5,7,8,1,2,9,0]\n",
    "n=4\n",
    "print(random.sample(list,n))"
   ]
  },
  {
   "attachments": {},
   "cell_type": "markdown",
   "metadata": {},
   "source": [
    "32)Python program to print odd numbers in a list"
   ]
  },
  {
   "cell_type": "code",
   "execution_count": 41,
   "metadata": {},
   "outputs": [
    {
     "name": "stdout",
     "output_type": "stream",
     "text": [
      "Odd numbers are: [1, 3, 5, 7, 9, 11, 13]\n"
     ]
    }
   ],
   "source": [
    "list=[1,2,3,4,5,6,7,8,9,10,11,12,13,14]\n",
    "odd_no=(list[::2])\n",
    "print(\"Odd numbers are:\",odd_no)\n"
   ]
  },
  {
   "attachments": {},
   "cell_type": "markdown",
   "metadata": {},
   "source": [
    "33)Python program to print all even numbers in a range\n"
   ]
  },
  {
   "cell_type": "code",
   "execution_count": 48,
   "metadata": {},
   "outputs": [
    {
     "name": "stdout",
     "output_type": "stream",
     "text": [
      "2\n",
      "4\n",
      "6\n",
      "8\n",
      "10\n"
     ]
    }
   ],
   "source": [
    "str_range=int(input(\"enter starting range\"))\n",
    "end_range=int(input(\"enter last range\"))\n",
    "for i in range(str_range,end_range+1):\n",
    "    if i%2==0:\n",
    "        \n",
    "        print(i)    "
   ]
  },
  {
   "attachments": {},
   "cell_type": "markdown",
   "metadata": {},
   "source": [
    "34)Python program to find sum of array"
   ]
  },
  {
   "cell_type": "code",
   "execution_count": 50,
   "metadata": {},
   "outputs": [
    {
     "name": "stdout",
     "output_type": "stream",
     "text": [
      "sum of the array 183\n"
     ]
    }
   ],
   "source": [
    "def sum(arr):\n",
    "    sum=0\n",
    "    for i in arr:\n",
    "        sum=sum+i\n",
    "    return (sum)\n",
    "\n",
    "arr=[45,23,12,56,23,24]\n",
    "n=len(arr)\n",
    "ans=sum(arr)\n",
    "print(\"sum of the array\",ans)"
   ]
  },
  {
   "attachments": {},
   "cell_type": "markdown",
   "metadata": {},
   "source": [
    "35)Python program to check if a string is a number(Float)\n"
   ]
  },
  {
   "cell_type": "code",
   "execution_count": 51,
   "metadata": {},
   "outputs": [
    {
     "name": "stdout",
     "output_type": "stream",
     "text": [
      "The original string is:\n",
      "1212.345345\n"
     ]
    }
   ],
   "source": [
    "ts_str=\"12.345\"\n",
    "print(\"The original string is:\")\n",
    "res=ts_str.replace('.',ts_str)\n",
    "print(res)"
   ]
  },
  {
   "attachments": {},
   "cell_type": "markdown",
   "metadata": {},
   "source": [
    "36)Python program to convert two list into a dictionary"
   ]
  },
  {
   "cell_type": "code",
   "execution_count": 52,
   "metadata": {},
   "outputs": [
    {
     "name": "stdout",
     "output_type": "stream",
     "text": [
      "Original list is: ['Supriya', 'Huligemma', 'Kavya', 'Kantu']\n",
      "original list is: [2, 12, 45, 23]\n",
      "Resultant dictionary is : {'Supriya': 2, 'Huligemma': 12, 'Kavya': 45, 'Kantu': 23}\n"
     ]
    }
   ],
   "source": [
    "list1=[\"Supriya\",\"Huligemma\",\"Kavya\",\"Kantu\"]\n",
    "list2=[2,12,45,23]\n",
    "print(\"Original list is:\",(list1))\n",
    "print(\"original list is:\",(list2))\n",
    "res={list1[i]:list2[i] for i in range(len(list1))}\n",
    "print(\"Resultant dictionary is :\",(res))\n"
   ]
  },
  {
   "attachments": {},
   "cell_type": "markdown",
   "metadata": {},
   "source": [
    "37)Python program to reverse a number"
   ]
  },
  {
   "cell_type": "code",
   "execution_count": 55,
   "metadata": {},
   "outputs": [
    {
     "name": "stdout",
     "output_type": "stream",
     "text": [
      "2\n"
     ]
    }
   ],
   "source": [
    "rem=0;sum=0\n",
    "def rev_fun(num):\n",
    "    sum=0\n",
    "    rem=0\n",
    "    \n",
    "    if num>0:\n",
    "        rem=num%10\n",
    "        sum=sum*10+rem\n",
    "        num=num/10\n",
    "    return sum\n",
    "\n",
    "ans=rev_fun(1232)\n",
    "print(ans)"
   ]
  },
  {
   "attachments": {},
   "cell_type": "markdown",
   "metadata": {},
   "source": [
    "38)Python program to compute the power of a number"
   ]
  },
  {
   "cell_type": "code",
   "execution_count": 56,
   "metadata": {},
   "outputs": [
    {
     "name": "stdout",
     "output_type": "stream",
     "text": [
      "134217728.0\n"
     ]
    }
   ],
   "source": [
    "import math\n",
    "num=int(input(\"enter any number\"))\n",
    "p=int(input(\"enter value power\"))\n",
    "ans=math.pow(num,p)\n",
    "print(ans)"
   ]
  },
  {
   "attachments": {},
   "cell_type": "markdown",
   "metadata": {},
   "source": [
    "39)Python program to count the number of digits present in a number"
   ]
  },
  {
   "cell_type": "code",
   "execution_count": 57,
   "metadata": {},
   "outputs": [
    {
     "name": "stdout",
     "output_type": "stream",
     "text": [
      "the number of digits in the number are 10\n"
     ]
    }
   ],
   "source": [
    "n=int(input(\"enter a number\"))\n",
    "count =0\n",
    "while(n>0):\n",
    "    count=count+1\n",
    "    n=n//10\n",
    "print(\"the number of digits in the number are\",count)"
   ]
  },
  {
   "attachments": {},
   "cell_type": "markdown",
   "metadata": {},
   "source": [
    "40)Python program to remove a duplicate element from a list"
   ]
  },
  {
   "cell_type": "code",
   "execution_count": 2,
   "metadata": {},
   "outputs": [
    {
     "name": "stdout",
     "output_type": "stream",
     "text": [
      "[0, 1, 2, 3, 4, 5, 7, 8]\n"
     ]
    }
   ],
   "source": [
    "\n",
    "\n",
    "list1=[2,1,3,4,2,5,7,8,3,1,2,4,5,0]\n",
    "print(list(set(list1)))\n"
   ]
  },
  {
   "attachments": {},
   "cell_type": "markdown",
   "metadata": {},
   "source": [
    "41)Python program to display calender"
   ]
  },
  {
   "cell_type": "code",
   "execution_count": 3,
   "metadata": {},
   "outputs": [
    {
     "name": "stdout",
     "output_type": "stream",
     "text": [
      "     April 2023\n",
      "Mo Tu We Th Fr Sa Su\n",
      "                1  2\n",
      " 3  4  5  6  7  8  9\n",
      "10 11 12 13 14 15 16\n",
      "17 18 19 20 21 22 23\n",
      "24 25 26 27 28 29 30\n",
      "\n"
     ]
    }
   ],
   "source": [
    "import calendar\n",
    "year=int(input(\"enter year\"))\n",
    "month=int(input(\"enter month\"))\n",
    "print(calendar.month(year,month))"
   ]
  },
  {
   "attachments": {},
   "cell_type": "markdown",
   "metadata": {},
   "source": [
    "42)Python prohtam to find sum of array"
   ]
  },
  {
   "cell_type": "code",
   "execution_count": 5,
   "metadata": {},
   "outputs": [
    {
     "name": "stdout",
     "output_type": "stream",
     "text": [
      "sum of the array 80\n"
     ]
    }
   ],
   "source": [
    "def sum(arr):\n",
    "    sum=0\n",
    "    for i in arr:\n",
    "        sum=sum+i\n",
    "    return (sum)\n",
    "\n",
    "arr=[45,23,12]\n",
    "n=len(arr)\n",
    "ans=sum(arr)\n",
    "print(\"sum of the array\",ans)"
   ]
  },
  {
   "attachments": {},
   "cell_type": "markdown",
   "metadata": {},
   "source": [
    "43)Python | Check for URL in a string"
   ]
  },
  {
   "cell_type": "code",
   "execution_count": null,
   "metadata": {},
   "outputs": [],
   "source": []
  },
  {
   "attachments": {},
   "cell_type": "markdown",
   "metadata": {},
   "source": [
    "44)Python - sort dictionary key and values list"
   ]
  },
  {
   "cell_type": "code",
   "execution_count": 7,
   "metadata": {},
   "outputs": [
    {
     "name": "stdout",
     "output_type": "stream",
     "text": [
      "The original dictionary is: {'study': [1, 2, 3], 'today': [5, 6, 7], 'night': [19, 2]}\n",
      "The sorted dictionaries: {'night': [2, 19], 'study': [1, 2, 3], 'today': [5, 6, 7]}\n"
     ]
    }
   ],
   "source": [
    "dic={'study':[1,2,3],\n",
    "    'today':[5,6,7],\n",
    "    'night':[19,2]}\n",
    "print(\"The original dictionary is:\",dic)\n",
    "sort_dict={}\n",
    "for key in sorted(dic):\n",
    "    sort_dict[key]=sorted(dic[key])\n",
    "print(\"The sorted dictionaries:\",sort_dict)"
   ]
  },
  {
   "attachments": {},
   "cell_type": "markdown",
   "metadata": {},
   "source": [
    "45)Python program to find the size of a Tuple"
   ]
  },
  {
   "cell_type": "code",
   "execution_count": 8,
   "metadata": {},
   "outputs": [
    {
     "name": "stdout",
     "output_type": "stream",
     "text": [
      "size of tuple is: 408\n"
     ]
    }
   ],
   "source": [
    "import sys\n",
    "tuple1=(\"a\",1,\"huligemma\",\"supriya\",2,8)\n",
    "\n",
    "print(\"size of tuple is:\",str(sys.getsizeof(tuple)))"
   ]
  },
  {
   "attachments": {},
   "cell_type": "markdown",
   "metadata": {},
   "source": [
    "46)Create a list for tuple from given list having number and its cube in each tuple"
   ]
  },
  {
   "cell_type": "code",
   "execution_count": 9,
   "metadata": {},
   "outputs": [
    {
     "name": "stdout",
     "output_type": "stream",
     "text": [
      "[(2, 8), (4, 64), (8, 512), (9, 729), (3, 27)]\n"
     ]
    }
   ],
   "source": [
    "def cube_fun(li):\n",
    "    result=[(num,num**3) for num in li]\n",
    "    return result\n",
    "\n",
    "li=[2,4,8,9,3]\n",
    "print(cube_fun(li))"
   ]
  },
  {
   "attachments": {},
   "cell_type": "markdown",
   "metadata": {},
   "source": [
    "47)Python - Extract digits from Tuple list"
   ]
  },
  {
   "cell_type": "code",
   "execution_count": 11,
   "metadata": {},
   "outputs": [
    {
     "name": "stdout",
     "output_type": "stream",
     "text": [
      "The original list is: [(1, 3), (3, 60), (2, 34)]\n",
      "The extracted digits: [0, 2, 4, 3, 1, 6]\n"
     ]
    }
   ],
   "source": [
    "list1=[(1,3),(3,60),(2,34)]\n",
    "print(\"The original list is:\",list1)\n",
    "x=\"\"\n",
    "for i in list1:\n",
    "    for j in i:\n",
    "        x=x+str(j)\n",
    "res=list(map(int,set(x)))\n",
    "print(\"The extracted digits:\",str(res))"
   ]
  },
  {
   "attachments": {},
   "cell_type": "markdown",
   "metadata": {},
   "source": [
    "48)Python program to delete all elements in list"
   ]
  },
  {
   "cell_type": "code",
   "execution_count": 12,
   "metadata": {},
   "outputs": [
    {
     "name": "stdout",
     "output_type": "stream",
     "text": [
      "element in list are: [1, 2, 3, 4, 6, 7, 8, 9]\n",
      "After deleting the elements : <class 'list'>\n"
     ]
    }
   ],
   "source": [
    "list=[1,2,3,4,6,7,8,9]\n",
    "print(\"element in list are:\",list)\n",
    "del list\n",
    "print(\"After deleting the elements :\",list)"
   ]
  },
  {
   "attachments": {},
   "cell_type": "markdown",
   "metadata": {},
   "source": [
    "49)Python program to enter basic salary and calculate gross salary of an employee"
   ]
  },
  {
   "cell_type": "code",
   "execution_count": 14,
   "metadata": {},
   "outputs": [
    {
     "name": "stdout",
     "output_type": "stream",
     "text": [
      "3290\n"
     ]
    }
   ],
   "source": [
    "def sla_fun(basic,grade):\n",
    "    hra=0.2*basic\n",
    "    da=0.5*basic\n",
    "    pf=0.11*basic\n",
    "    \n",
    "    if grade == 'A':\n",
    "        allowance=1700.0\n",
    "    elif grade =='B':\n",
    "        allowance=1500.0\n",
    "    else:\n",
    "        allowance=1300.0\n",
    "    gross=round(basic+hra+da+allowance-pf)\n",
    "    return gross\n",
    "\n",
    "\n",
    "print(sla_fun(basic=1000,grade='A'))    "
   ]
  },
  {
   "attachments": {},
   "cell_type": "markdown",
   "metadata": {},
   "source": [
    "50)Python program to calculate the average of numbers in a given list"
   ]
  },
  {
   "cell_type": "code",
   "execution_count": 17,
   "metadata": {},
   "outputs": [
    {
     "name": "stdout",
     "output_type": "stream",
     "text": [
      "Average of the list is: 24.666666666666668\n"
     ]
    }
   ],
   "source": [
    "def avg(list):\n",
    "    return sum(list)/len(list)\n",
    "\n",
    "list=[12,13,14,21,32,56]\n",
    "average=avg(list)\n",
    "print(\"Average of the list is:\",average)\n"
   ]
  }
 ],
 "metadata": {
  "kernelspec": {
   "display_name": "base",
   "language": "python",
   "name": "python3"
  },
  "language_info": {
   "codemirror_mode": {
    "name": "ipython",
    "version": 3
   },
   "file_extension": ".py",
   "mimetype": "text/x-python",
   "name": "python",
   "nbconvert_exporter": "python",
   "pygments_lexer": "ipython3",
   "version": "3.9.13"
  },
  "orig_nbformat": 4
 },
 "nbformat": 4,
 "nbformat_minor": 2
}
