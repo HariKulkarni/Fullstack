{
 "cells": [
  {
   "attachments": {},
   "cell_type": "markdown",
   "metadata": {},
   "source": [
    "Write a program to find the eldest among three persons age received from the user"
   ]
  },
  {
   "cell_type": "code",
   "execution_count": 1,
   "metadata": {},
   "outputs": [
    {
     "name": "stdout",
     "output_type": "stream",
     "text": [
      "age2 is oldest\n",
      "age3 is youngest\n"
     ]
    }
   ],
   "source": [
    "age1=int(input('enter age1: '))\n",
    "age2=int(input('enter age2: '))\n",
    "age3=int(input('enter age3: '))\n",
    "if age1>age2 and age1>age3:\n",
    "    print('age1 is oldest')\n",
    "elif age2>age1 and age2>age3:\n",
    "    print('age2 is oldest')\n",
    "else:\n",
    "#     print('age3 is oldest')\n",
    "# if age1<age2 and age1<age3:\n",
    "#     print('age1 is youngest')\n",
    "# elif age2<age1 and age2<age3:\n",
    "#     print('age2 is youngest')\n",
    "# else:\n",
    "#     print('age3 is youngest')"
   ]
  },
  {
   "attachments": {},
   "cell_type": "markdown",
   "metadata": {},
   "source": [
    "Write a program to check the number record from the user is positive or negativ"
   ]
  },
  {
   "cell_type": "code",
   "execution_count": 2,
   "metadata": {},
   "outputs": [
    {
     "name": "stdout",
     "output_type": "stream",
     "text": [
      "Entered Number is positive\n"
     ]
    }
   ],
   "source": [
    "\n",
    "number=int(input(\"enter any number\"))\n",
    "if number>0:\n",
    "    print(\"Entered Number is positive\")\n",
    "elif number<0:\n",
    "    print(\"Entered Number is Negative\")\n",
    "else:\n",
    "    print(\"Entered number is Zero\")"
   ]
  },
  {
   "attachments": {},
   "cell_type": "markdown",
   "metadata": {},
   "source": [
    "Write a program to accept two numbers & mathematical operator and perform operations accordingly.\n"
   ]
  },
  {
   "cell_type": "code",
   "execution_count": 3,
   "metadata": {},
   "outputs": [
    {
     "name": "stdout",
     "output_type": "stream",
     "text": [
      "Addition of two number's : 77.0\n",
      "Substraction of two number's is: 33.0\n",
      "Multiplication of two number's is: 1210.0\n",
      "Division of two number's is: 2.5\n",
      "modulus of two number's is: 11.0\n"
     ]
    }
   ],
   "source": [
    "\n",
    "a=float(input(\"enter first number\"))\n",
    "b=float(input(\"enter second number\"))\n",
    "print(\"Addition of two number's :\",a+b)\n",
    "print(\"Substraction of two number's is:\",a-b)\n",
    "print(\"Multiplication of two number's is:\",a*b)\n",
    "print(\"Division of two number's is:\",a/b)\n",
    "print(\"modulus of two number's is:\",a%b)"
   ]
  }
 ],
 "metadata": {
  "kernelspec": {
   "display_name": "base",
   "language": "python",
   "name": "python3"
  },
  "language_info": {
   "codemirror_mode": {
    "name": "ipython",
    "version": 3
   },
   "file_extension": ".py",
   "mimetype": "text/x-python",
   "name": "python",
   "nbconvert_exporter": "python",
   "pygments_lexer": "ipython3",
   "version": "3.9.13"
  },
  "orig_nbformat": 4
 },
 "nbformat": 4,
 "nbformat_minor": 2
}
