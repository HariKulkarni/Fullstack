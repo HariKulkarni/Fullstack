{
 "cells": [
  {
   "cell_type": "code",
   "execution_count": 5,
   "metadata": {},
   "outputs": [
    {
     "name": "stdout",
     "output_type": "stream",
     "text": [
      "2 is the even number\n",
      "55 is the odd number\n"
     ]
    }
   ],
   "source": [
    "def main():\n",
    "    even(2)\n",
    "    odd(55)\n",
    "\n",
    "def even(n):\n",
    "    if n % 2 == 0 :\n",
    "        print(n,\"is the even number\")\n",
    "\n",
    "def odd(n):\n",
    "    if n % 2 != 0 :\n",
    "        print(n,\"is the odd number\")\n",
    "        \n",
    "main()"
   ]
  },
  {
   "cell_type": "code",
   "execution_count": 9,
   "metadata": {},
   "outputs": [
    {
     "name": "stdout",
     "output_type": "stream",
     "text": [
      "1060.0\n"
     ]
    }
   ],
   "source": [
    "\n",
    "def addinterest(balance,rate):\n",
    "    newbalance=balance*(1+rate)\n",
    "    return newbalance\n",
    "\n",
    "def main():\n",
    "    amount=1000\n",
    "    rate=0.06\n",
    "    amount= addinterest(amount,rate)\n",
    "    print(amount)\n",
    "\n",
    "main()\n",
    "    "
   ]
  },
  {
   "cell_type": "code",
   "execution_count": 1,
   "metadata": {},
   "outputs": [
    {
     "name": "stdout",
     "output_type": "stream",
     "text": [
      "smallest\n"
     ]
    }
   ],
   "source": [
    "def odd_even():\n",
    "    if 10>20:\n",
    "        print(\"greater\")\n",
    "    else:\n",
    "        print(\"smallest\")\n",
    "\n",
    "odd_even()"
   ]
  },
  {
   "cell_type": "code",
   "execution_count": 6,
   "metadata": {},
   "outputs": [
    {
     "name": "stdout",
     "output_type": "stream",
     "text": [
      "you have read the value from user: 20\n",
      "400\n"
     ]
    }
   ],
   "source": [
    "a=int(input(\"enter a value: \"))\n",
    "print(\"you have read the value from user:\",a)\n",
    "b=a*a\n",
    "print(b)\n"
   ]
  },
  {
   "cell_type": "code",
   "execution_count": 11,
   "metadata": {},
   "outputs": [
    {
     "name": "stdout",
     "output_type": "stream",
     "text": [
      "10.0\n",
      "<class 'float'>\n"
     ]
    }
   ],
   "source": [
    "a=float(input(\"enter a number: \"))\n",
    "print(a)\n",
    "print(type(a))"
   ]
  },
  {
   "cell_type": "code",
   "execution_count": 16,
   "metadata": {},
   "outputs": [
    {
     "name": "stdout",
     "output_type": "stream",
     "text": [
      "0xa\n",
      "<class 'str'>\n"
     ]
    }
   ],
   "source": [
    "a=int(input(\"enter a number:\"))\n",
    "b=hex(a)\n",
    "print(b)\n",
    "print(type(b))"
   ]
  },
  {
   "attachments": {},
   "cell_type": "markdown",
   "metadata": {},
   "source": [
    "custom program"
   ]
  },
  {
   "cell_type": "code",
   "execution_count": 9,
   "metadata": {},
   "outputs": [
    {
     "ename": "ValueError",
     "evalue": "invalid literal for int() with base 10: ''",
     "output_type": "error",
     "traceback": [
      "\u001b[1;31m---------------------------------------------------------------------------\u001b[0m",
      "\u001b[1;31mValueError\u001b[0m                                Traceback (most recent call last)",
      "\u001b[1;32m~\\AppData\\Local\\Temp\\ipykernel_14672\\2288061827.py\u001b[0m in \u001b[0;36m<module>\u001b[1;34m\u001b[0m\n\u001b[0;32m     18\u001b[0m     \u001b[0mprint\u001b[0m\u001b[1;33m(\u001b[0m\u001b[1;34m\"sum is odd\"\u001b[0m\u001b[1;33m)\u001b[0m\u001b[1;33m\u001b[0m\u001b[1;33m\u001b[0m\u001b[0m\n\u001b[0;32m     19\u001b[0m \u001b[1;33m\u001b[0m\u001b[0m\n\u001b[1;32m---> 20\u001b[1;33m \u001b[0mreaddata\u001b[0m\u001b[1;33m(\u001b[0m\u001b[1;33m)\u001b[0m\u001b[1;33m\u001b[0m\u001b[1;33m\u001b[0m\u001b[0m\n\u001b[0m",
      "\u001b[1;32m~\\AppData\\Local\\Temp\\ipykernel_14672\\2288061827.py\u001b[0m in \u001b[0;36mreaddata\u001b[1;34m()\u001b[0m\n\u001b[0;32m      1\u001b[0m \u001b[1;32mdef\u001b[0m \u001b[0mreaddata\u001b[0m\u001b[1;33m(\u001b[0m\u001b[1;33m)\u001b[0m\u001b[1;33m:\u001b[0m\u001b[1;33m\u001b[0m\u001b[1;33m\u001b[0m\u001b[0m\n\u001b[1;32m----> 2\u001b[1;33m     \u001b[0ma\u001b[0m\u001b[1;33m=\u001b[0m\u001b[0mint\u001b[0m\u001b[1;33m(\u001b[0m\u001b[0minput\u001b[0m\u001b[1;33m(\u001b[0m\u001b[1;34m\"enter a value:\"\u001b[0m\u001b[1;33m)\u001b[0m\u001b[1;33m)\u001b[0m\u001b[1;33m\u001b[0m\u001b[1;33m\u001b[0m\u001b[0m\n\u001b[0m\u001b[0;32m      3\u001b[0m     \u001b[0mb\u001b[0m\u001b[1;33m=\u001b[0m\u001b[0mint\u001b[0m\u001b[1;33m(\u001b[0m\u001b[0minput\u001b[0m\u001b[1;33m(\u001b[0m\u001b[1;34m\"enter b value:\"\u001b[0m\u001b[1;33m)\u001b[0m\u001b[1;33m)\u001b[0m\u001b[1;33m\u001b[0m\u001b[1;33m\u001b[0m\u001b[0m\n\u001b[0;32m      4\u001b[0m     \u001b[0maddition\u001b[0m\u001b[1;33m(\u001b[0m\u001b[0ma\u001b[0m\u001b[1;33m,\u001b[0m\u001b[0mb\u001b[0m\u001b[1;33m)\u001b[0m\u001b[1;33m\u001b[0m\u001b[1;33m\u001b[0m\u001b[0m\n\u001b[0;32m      5\u001b[0m \u001b[1;33m\u001b[0m\u001b[0m\n",
      "\u001b[1;31mValueError\u001b[0m: invalid literal for int() with base 10: ''"
     ]
    }
   ],
   "source": [
    "def readdata():\n",
    "    a=int(input(\"enter a value:\"))\n",
    "    b=int(input(\"enter b value:\"))\n",
    "    addition(a,b)\n",
    "    \n",
    "    \n",
    "def addition(a,b):    \n",
    "  sum=a+b\n",
    "  print(sum)\n",
    "  oddeven(sum)\n",
    " \n",
    "def oddeven(sum):\n",
    "    \n",
    " if(sum % 2 == 0):\n",
    "    \n",
    "    print(\"sum is even\")\n",
    " else:\n",
    "    print(\"sum is odd\")\n",
    " \n",
    "readdata()   "
   ]
  },
  {
   "attachments": {},
   "cell_type": "markdown",
   "metadata": {},
   "source": [
    "write a python program to find largest of 5 number from user?"
   ]
  },
  {
   "cell_type": "code",
   "execution_count": 2,
   "metadata": {},
   "outputs": [
    {
     "name": "stdout",
     "output_type": "stream",
     "text": [
      "list elements: [12, 21]\n",
      "largest element is :  21\n",
      "smallest element is :  12\n"
     ]
    }
   ],
   "source": [
    "list=[]\n",
    "n=int(input(\"enter n numbers\"))\n",
    "for i in range(1,n+1):\n",
    "    element=int(input(\"enter  elements\"))\n",
    "    list.append(element)\n",
    "    \n",
    "print(\"list elements:\",list)\n",
    "print(\"largest element is : \",max(list))\n",
    "print(\"smallest element is : \",min(list))\n",
    "\n"
   ]
  },
  {
   "cell_type": "code",
   "execution_count": 16,
   "metadata": {},
   "outputs": [
    {
     "name": "stdout",
     "output_type": "stream",
     "text": [
      "25 20.5 python\n",
      "2520.5python\n",
      "25<<-->>20.5<<-->>python\n",
      "25 20.5 python.."
     ]
    }
   ],
   "source": [
    "a=25\n",
    "b=20.5\n",
    "c=\"python\"\n",
    "print(a,b,c)\n",
    "print(a,b,c,sep='')\n",
    "print(a,b,c,sep='<<-->>')\n",
    "print(a,b,c,end='..')"
   ]
  },
  {
   "cell_type": "code",
   "execution_count": 18,
   "metadata": {},
   "outputs": [
    {
     "name": "stdout",
     "output_type": "stream",
     "text": [
      "hello python\n"
     ]
    }
   ],
   "source": [
    "my_file=open(\"hello.txt\",\"r\")\n",
    "print(my_file.read())"
   ]
  },
  {
   "cell_type": "code",
   "execution_count": 3,
   "metadata": {},
   "outputs": [
    {
     "name": "stdout",
     "output_type": "stream",
     "text": [
      "5\n",
      "hello\n"
     ]
    }
   ],
   "source": [
    "my_file=open(\"hello.txt\",\"w\")\n",
    "print(my_file.write(\"hello\"))\n",
    "\n",
    "\n",
    "my_file=open(\"hello.txt\",\"r\")\n",
    "print(my_file.read())"
   ]
  },
  {
   "cell_type": "code",
   "execution_count": 2,
   "metadata": {},
   "outputs": [
    {
     "name": "stdout",
     "output_type": "stream",
     "text": [
      "<class 'int'>\n"
     ]
    }
   ],
   "source": [
    "c=5\n",
    "print(type(c))\n"
   ]
  },
  {
   "attachments": {},
   "cell_type": "markdown",
   "metadata": {},
   "source": [
    "integer"
   ]
  },
  {
   "cell_type": "code",
   "execution_count": 17,
   "metadata": {},
   "outputs": [
    {
     "name": "stdout",
     "output_type": "stream",
     "text": [
      "Addition: 11\n",
      "Subtraction: 3\n",
      "Division: 4\n",
      "Multiplication: 15\n",
      "Modulus: 0\n",
      "Exponent: 36\n"
     ]
    }
   ],
   "source": [
    "a = 5\n",
    "b = 6\n",
    " \n",
    "# Addition\n",
    "c = a + b\n",
    "print(\"Addition:\",c)\n",
    " \n",
    "d = 9\n",
    "e = 6\n",
    " \n",
    "# Subtraction\n",
    "f = d - e\n",
    "print(\"Subtraction:\",f)\n",
    " \n",
    "g = 8\n",
    "h = 2\n",
    " \n",
    "# Division\n",
    "i = g // h\n",
    "print(\"Division:\",i)\n",
    " \n",
    "j = 3\n",
    "k = 5\n",
    " \n",
    "# Multiplication\n",
    "l = j * k\n",
    "print(\"Multiplication:\",l)\n",
    " \n",
    "m = 25\n",
    "n = 5\n",
    " \n",
    "# Modulus\n",
    "o = m % n\n",
    " \n",
    "print(\"Modulus:\",o)\n",
    " \n",
    "p = 6\n",
    "q = 2\n",
    " \n",
    "# Exponent\n",
    "r = p ** q\n",
    "print(\"Exponent:\",r)"
   ]
  },
  {
   "cell_type": "code",
   "execution_count": 15,
   "metadata": {},
   "outputs": [
    {
     "name": "stdout",
     "output_type": "stream",
     "text": [
      "7\n"
     ]
    }
   ],
   "source": [
    "m=14\n",
    "n=2\n",
    "o=m//n\n",
    "print(o)"
   ]
  },
  {
   "cell_type": "code",
   "execution_count": 16,
   "metadata": {},
   "outputs": [
    {
     "name": "stdout",
     "output_type": "stream",
     "text": [
      "196\n"
     ]
    }
   ],
   "source": [
    "m=14\n",
    "n=2\n",
    "o=m**n\n",
    "print(o)"
   ]
  },
  {
   "attachments": {},
   "cell_type": "markdown",
   "metadata": {},
   "source": [
    "float\n"
   ]
  },
  {
   "cell_type": "code",
   "execution_count": 18,
   "metadata": {},
   "outputs": [
    {
     "name": "stdout",
     "output_type": "stream",
     "text": [
      "<class 'float'>\n"
     ]
    }
   ],
   "source": [
    "a=5.5\n",
    "print(type(a))"
   ]
  },
  {
   "cell_type": "code",
   "execution_count": 19,
   "metadata": {},
   "outputs": [
    {
     "name": "stdout",
     "output_type": "stream",
     "text": [
      "Addition: 8.7\n",
      "Subtraction: 2.3\n",
      "Division: 1.71875\n",
      "Multiplication: 17.6\n"
     ]
    }
   ],
   "source": [
    "a = 5.5\n",
    "b = 3.2\n",
    "\n",
    "# Addition\n",
    "c = a + b\n",
    "print(\"Addition:\", c)\n",
    "\n",
    "# Subtraction\n",
    "c = a-b\n",
    "print(\"Subtraction:\", c)\n",
    "\n",
    "# Division\n",
    "c = a/b\n",
    "print(\"Division:\", c)\n",
    "\n",
    "# Multiplication\n",
    "c = a*b\n",
    "print(\"Multiplication:\", c)\n"
   ]
  },
  {
   "attachments": {},
   "cell_type": "markdown",
   "metadata": {},
   "source": [
    "complex"
   ]
  },
  {
   "cell_type": "code",
   "execution_count": 20,
   "metadata": {},
   "outputs": [
    {
     "name": "stdout",
     "output_type": "stream",
     "text": [
      "<class 'complex'>\n"
     ]
    }
   ],
   "source": [
    "a=12+3j\n",
    "print(type(a))"
   ]
  },
  {
   "cell_type": "code",
   "execution_count": 21,
   "metadata": {},
   "outputs": [
    {
     "name": "stdout",
     "output_type": "stream",
     "text": [
      "Addition: (3+8j)\n",
      "Subtraction: (-1+8j)\n",
      "Division: (1.307692307692308+0.5384615384615384j)\n",
      "Multiplication: (-13+13j)\n"
     ]
    }
   ],
   "source": [
    "a = 1 + 5j\n",
    "b = 2 + 3j\n",
    "\n",
    "# Addition\n",
    "c = a + b\n",
    "print(\"Addition:\",c)\n",
    "\n",
    "d = 1 + 5j\n",
    "e = 2 - 3j\n",
    "\n",
    "# Subtraction\n",
    "f = d - e\n",
    "print(\"Subtraction:\",f)\n",
    "\n",
    "\n",
    "g = 1 + 5j\n",
    "h = 2 + 3j\n",
    "\n",
    "# Division\n",
    "i = g / h\n",
    "print(\"Division:\",i)\n",
    "\n",
    "\n",
    "j = 1 + 5j\n",
    "k = 2 + 3j\n",
    "\n",
    "# Multiplication\n",
    "l = j * k\n",
    "print(\"Multiplication:\",l)\n"
   ]
  },
  {
   "attachments": {},
   "cell_type": "markdown",
   "metadata": {},
   "source": [
    "boolean"
   ]
  },
  {
   "cell_type": "code",
   "execution_count": 24,
   "metadata": {},
   "outputs": [
    {
     "name": "stdout",
     "output_type": "stream",
     "text": [
      "<class 'bool'>\n",
      "<class 'bool'>\n"
     ]
    },
    {
     "data": {
      "text/plain": [
       "False"
      ]
     },
     "execution_count": 24,
     "metadata": {},
     "output_type": "execute_result"
    }
   ],
   "source": [
    "#boolean\n",
    "a=True\n",
    "b=False\n",
    "print(type(a))\n",
    "print(type(b))\n",
    "b"
   ]
  },
  {
   "cell_type": "code",
   "execution_count": 25,
   "metadata": {},
   "outputs": [
    {
     "name": "stdout",
     "output_type": "stream",
     "text": [
      "False\n",
      "False\n",
      "False\n",
      "False\n",
      "False\n",
      "True\n"
     ]
    }
   ],
   "source": [
    "# Python program to illustrate\n",
    "# built-in method bool()\n",
    "\n",
    "# Returns False as x is not equal to y\n",
    "x = 5\n",
    "y = 10\n",
    "print(bool(x==y))\n",
    "\n",
    "# Returns False as x is None\n",
    "x = None\n",
    "print(bool(x))\n",
    "\n",
    "# Returns False as x is an empty sequence\n",
    "x = ()\n",
    "print(bool(x))\n",
    "\n",
    "# Returns False as x is an empty mapping\n",
    "x = {}\n",
    "print(bool(x))\n",
    "\n",
    "# Returns False as x is 0\n",
    "x = 0.0\n",
    "print(bool(x))\n",
    "\n",
    "# Returns True as x is a non empty string\n",
    "x = 'GeeksforGeeks'\n",
    "print(bool(x))\n"
   ]
  },
  {
   "cell_type": "code",
   "execution_count": 34,
   "metadata": {},
   "outputs": [
    {
     "name": "stdout",
     "output_type": "stream",
     "text": [
      " You need to eat some foods  True\n"
     ]
    }
   ],
   "source": [
    "user_input = bool(input(\"Are you hungry? True or false: \"))\n",
    "if user_input:\n",
    "\tprint(\" You need to eat some foods \")\n",
    "else:\n",
    "\tprint(\"Let's go for walk\",user_input)\n"
   ]
  },
  {
   "attachments": {},
   "cell_type": "markdown",
   "metadata": {},
   "source": [
    "Strings"
   ]
  },
  {
   "cell_type": "code",
   "execution_count": 1,
   "metadata": {},
   "outputs": [
    {
     "name": "stdout",
     "output_type": "stream",
     "text": [
      "<class 'str'>\n"
     ]
    }
   ],
   "source": [
    "str1=\"hello\"\n",
    "print(type(str1))\n"
   ]
  },
  {
   "cell_type": "code",
   "execution_count": 1,
   "metadata": {},
   "outputs": [
    {
     "name": "stdout",
     "output_type": "stream",
     "text": [
      "hello welcome\n"
     ]
    }
   ],
   "source": [
    "name =\"alex\"\n",
    "age=0\n",
    "\n",
    "if name ==\"alex\" or name==\"john\" and age>=2:\n",
    "    print(\"hello welcome\")\n",
    "else:\n",
    "    print(\"good bell\")"
   ]
  },
  {
   "cell_type": "code",
   "execution_count": 5,
   "metadata": {},
   "outputs": [
    {
     "name": "stdout",
     "output_type": "stream",
     "text": [
      "{'huli': 2, 'supriya': 1, 'vinaya': 3}\n"
     ]
    }
   ],
   "source": [
    "name =[\"huli\",\"supriya\",\"vinaya\"]\n",
    "roll_no=[2,1,3]\n",
    "mapped=zip(name,roll_no)\n",
    "print(dict(mapped))"
   ]
  },
  {
   "attachments": {},
   "cell_type": "markdown",
   "metadata": {},
   "source": [
    "functions\n"
   ]
  },
  {
   "cell_type": "code",
   "execution_count": 3,
   "metadata": {},
   "outputs": [
    {
     "name": "stdout",
     "output_type": "stream",
     "text": [
      "even\n"
     ]
    }
   ],
   "source": [
    "def func1(x):\n",
    "    if x % 2 == 0:\n",
    "        print(\"even\")\n",
    "    else:\n",
    "        print(\"odd\")\n",
    "func1(12)"
   ]
  },
  {
   "cell_type": "code",
   "execution_count": 5,
   "metadata": {},
   "outputs": [
    {
     "name": "stdout",
     "output_type": "stream",
     "text": [
      "odd\n"
     ]
    }
   ],
   "source": [
    "def fun():\n",
    "    a=int(input(\"enter the number\"))\n",
    "    if a % 2 == 0:\n",
    "        print(\"even\")\n",
    "    else:\n",
    "        print(\"odd\")\n",
    "fun()"
   ]
  },
  {
   "cell_type": "code",
   "execution_count": 7,
   "metadata": {},
   "outputs": [
    {
     "name": "stdout",
     "output_type": "stream",
     "text": [
      "odd\n"
     ]
    }
   ],
   "source": [
    "def fun(a):\n",
    "    if a%2==0:\n",
    "        return \"even\"\n",
    "    else:\n",
    "        return \"odd\"\n",
    "ans=fun(323)\n",
    "print(ans)"
   ]
  },
  {
   "cell_type": "code",
   "execution_count": 9,
   "metadata": {},
   "outputs": [
    {
     "name": "stdout",
     "output_type": "stream",
     "text": [
      "area of trangle : 33.3\n"
     ]
    }
   ],
   "source": [
    "# python program to find area of trangle\n",
    "b=float(input(\"enter the base\"))\n",
    "h=float(input(\"enter the height\"))\n",
    "area=0.5*b*h\n",
    "print(\"area of trangle :\",area)"
   ]
  },
  {
   "cell_type": "code",
   "execution_count": 10,
   "metadata": {},
   "outputs": [
    {
     "name": "stdout",
     "output_type": "stream",
     "text": [
      "3.495\n"
     ]
    }
   ],
   "source": [
    "def area():\n",
    "    b=float(input(\"enter the base\"))\n",
    "    h=float(input(\"enter the height\"))\n",
    "    area=0.5*b*h\n",
    "    return area\n",
    "\n",
    "ar=area()\n",
    "print(ar)"
   ]
  },
  {
   "attachments": {},
   "cell_type": "markdown",
   "metadata": {},
   "source": [
    "ENUMERATE"
   ]
  },
  {
   "cell_type": "code",
   "execution_count": 14,
   "metadata": {},
   "outputs": [
    {
     "name": "stdout",
     "output_type": "stream",
     "text": [
      "[(0, 'a'), (1, 'b'), (2, 'c')]\n",
      "0~a\n",
      "1~b\n",
      "2~c\n",
      "b\n",
      "b\n",
      "b\n"
     ]
    }
   ],
   "source": [
    "l1=['a','b','c']\n",
    "obj1= enumerate(l1)\n",
    "\n",
    "print(list(obj1))\n",
    "for i,j in enumerate(l1):\n",
    "    print(i,j,sep='~')\n",
    "    \n",
    "for i in l1:\n",
    "    print(l1[1])"
   ]
  },
  {
   "attachments": {},
   "cell_type": "markdown",
   "metadata": {},
   "source": [
    "list comprehension"
   ]
  },
  {
   "cell_type": "code",
   "execution_count": 18,
   "metadata": {},
   "outputs": [
    {
     "name": "stdout",
     "output_type": "stream",
     "text": [
      "[1, 2, 3, 4, 5, 6, 7, 8, 9, 10, 11, 12, 13]\n",
      "[1, 2, 3, 4, 5, 6, 7, 8, 9]\n"
     ]
    }
   ],
   "source": [
    "list1=[1,2,3,4,5,6,7,8,9,10,11,12,13]\n",
    "print(list1)\n",
    "\n",
    "new_old_list =[i for i in list1 if i<10]\n",
    "print(new_old_list)"
   ]
  },
  {
   "cell_type": "code",
   "execution_count": 28,
   "metadata": {},
   "outputs": [
    {
     "name": "stdout",
     "output_type": "stream",
     "text": [
      "[[0, 1, 2, 3], [0, 1, 2, 3], [0, 1, 2, 3]]\n"
     ]
    }
   ],
   "source": [
    "list2=[[j for j in range(4)]for i in range(3)]\n",
    "print(list2)"
   ]
  },
  {
   "cell_type": "code",
   "execution_count": 33,
   "metadata": {},
   "outputs": [
    {
     "name": "stdout",
     "output_type": "stream",
     "text": [
      "[7.5, 9.0, 10.5, 12.0]\n"
     ]
    }
   ],
   "source": [
    "custome_list=[(i/2)*3 for i in range(10) if i>4 and i<9]\n",
    "print(custome_list)"
   ]
  },
  {
   "cell_type": "code",
   "execution_count": 30,
   "metadata": {},
   "outputs": [
    {
     "name": "stdout",
     "output_type": "stream",
     "text": [
      "[7.5, 9.0, 10.5, 12.0]\n"
     ]
    }
   ],
   "source": [
    "list1=[]\n",
    "for i in range(10):\n",
    "    if i>4 and i<9:\n",
    "        exp=(i/2)*3\n",
    "        list1.append(exp)\n",
    "print(list1)"
   ]
  },
  {
   "cell_type": "code",
   "execution_count": 35,
   "metadata": {},
   "outputs": [
    {
     "name": "stdout",
     "output_type": "stream",
     "text": [
      "0    0\n",
      "0    1\n",
      "0    2\n",
      "0    3\n",
      "0    4\n",
      "1    0\n",
      "1    1\n",
      "1    2\n",
      "1    3\n",
      "1    4\n",
      "2    0\n",
      "2    1\n",
      "2    2\n",
      "2    3\n",
      "2    4\n"
     ]
    }
   ],
   "source": [
    "for i in range(3):\n",
    "    for j in range(5):\n",
    "        print(i,j,sep='    ')"
   ]
  },
  {
   "cell_type": "code",
   "execution_count": 39,
   "metadata": {},
   "outputs": [
    {
     "name": "stdout",
     "output_type": "stream",
     "text": [
      "[[0, 1, 2, 3, 4], [0, 1, 2, 3, 4], [0, 1, 2, 3, 4]]\n"
     ]
    }
   ],
   "source": [
    "list3=[]\n",
    "for i in range(3):\n",
    "    list3.append([])\n",
    "    for j in range(5):\n",
    "        list3[i].append(j) \n",
    "    \n",
    "print(list3)"
   ]
  },
  {
   "cell_type": "code",
   "execution_count": 19,
   "metadata": {},
   "outputs": [
    {
     "name": "stdout",
     "output_type": "stream",
     "text": [
      "the simple interest 5000.0\n",
      "the time preiod 5\n",
      "the rste of interest 25.0\n",
      "simple interest is 6250.0\n",
      "the simple interest 3000\n",
      "the time preiod 12\n",
      "the rste of interest 2\n",
      "Compound interest is 804.7253836876366\n"
     ]
    }
   ],
   "source": [
    "    def simpleinterest(p,t,r):\n",
    "        print('the simple interest',p)\n",
    "        print('the time preiod',t)\n",
    "        print('the rste of interest',r)\n",
    "        \n",
    "        si=(p*t*r)/100\n",
    "\n",
    "        print('simple interest is',si)\n",
    "\n",
    "    P=float(input(\"enter the principle amount\"))\n",
    "    T=int(input(\"enter the time period\"))\n",
    "    R=float(input(\"enter the rate\"))\n",
    "    simpleinterest(P,T,R)\n",
    "\n",
    "    def compound_interest(principal, rate, time): \n",
    "        print('the simple interest',principal)\n",
    "        print('the time preiod',time)\n",
    "        print('the rste of interest',rate)\n",
    "        Amount = principal * (pow((1 + rate / 100), time)) \n",
    "        CI = Amount - principal \n",
    "        print(\"Compound interest is\", CI) \n",
    "\n",
    "    principal = int(input(\"Enter the principal amount: \")) \n",
    "    rate = int(input(\"Enter rate of interest: \")) \n",
    "    time = int(input(\"Enter time in years: \" ))  \n",
    "\n",
    "    compound_interest(principal,rate,time)"
   ]
  },
  {
   "cell_type": "code",
   "execution_count": 11,
   "metadata": {},
   "outputs": [
    {
     "name": "stdout",
     "output_type": "stream",
     "text": [
      "Enter the principle amount: 100000.0\n",
      "Enter the no of Months: 120.0\n",
      "Enter the annual interest rate:  7.0\n",
      "MONTHLY EMi is 1161.0847921862376\n"
     ]
    }
   ],
   "source": [
    "def EMI(p,t,r):\n",
    "    print('Enter the principle amount:',p)\n",
    "    print('Enter the no of Months:',t)\n",
    "    print('Enter the annual interest rate: ',r)\n",
    "    r=R/(12*100)\n",
    "    emi=p*r*((1+r)**t)/((1+r)**t-1)\n",
    "\n",
    "    print('MONTHLY EMi is',emi)\n",
    "\n",
    "P=float(input(\"enter the principle amount\"))\n",
    "T=float(input(\"enter the time period\"))\n",
    "R=float(input(\"enter the rate\"))\n",
    "\n",
    "EMI(P,T,R)"
   ]
  },
  {
   "cell_type": "code",
   "execution_count": 3,
   "metadata": {},
   "outputs": [
    {
     "name": "stdout",
     "output_type": "stream",
     "text": [
      "hello\n",
      "welcome\n",
      "to\n",
      "keonics\n"
     ]
    }
   ],
   "source": [
    "def myFun(*arvg):\n",
    "    for arg in arvg:\n",
    "        print(arg)\n",
    "        \n",
    "myFun('hello','welcome','to','keonics')"
   ]
  },
  {
   "cell_type": "code",
   "execution_count": 5,
   "metadata": {},
   "outputs": [
    {
     "name": "stdout",
     "output_type": "stream",
     "text": [
      "first == hello\n",
      "second == welcome\n",
      "third == to\n",
      "forth == keonics\n"
     ]
    }
   ],
   "source": [
    "def myFun(**arvg):\n",
    "    for arg,arg2 in arvg.items():\n",
    "        print(\"%s == %s\" %(arg,arg2))\n",
    "        \n",
    "myFun(first='hello',second='welcome',third='to',forth='keonics')"
   ]
  },
  {
   "cell_type": "code",
   "execution_count": 10,
   "metadata": {},
   "outputs": [
    {
     "name": "stdout",
     "output_type": "stream",
     "text": [
      "I Love U\n"
     ]
    }
   ],
   "source": [
    "def d1():\n",
    "    s=\"I Love U\"\n",
    "    \n",
    "    def d2():\n",
    "        print(s)\n",
    "        \n",
    "    d2()\n",
    "d1()"
   ]
  },
  {
   "cell_type": "code",
   "execution_count": 11,
   "metadata": {},
   "outputs": [
    {
     "name": "stdout",
     "output_type": "stream",
     "text": [
      "i love u\n"
     ]
    }
   ],
   "source": [
    "def f():\n",
    "    print(s)\n",
    "s=\"i love u\"\n",
    "f()"
   ]
  },
  {
   "cell_type": "code",
   "execution_count": 14,
   "metadata": {},
   "outputs": [
    {
     "name": "stdout",
     "output_type": "stream",
     "text": [
      "i love u\n",
      "i love u\n"
     ]
    }
   ],
   "source": [
    "def f():\n",
    "    print(s)\n",
    "f()\n",
    "s=\"i love u\"\n"
   ]
  },
  {
   "cell_type": "code",
   "execution_count": 20,
   "metadata": {},
   "outputs": [
    {
     "name": "stdout",
     "output_type": "stream",
     "text": [
      "global scope\n",
      "enclosing scope\n",
      "local scope\n"
     ]
    }
   ],
   "source": [
    "x=\"global scope\"\n",
    "def outer_fun():\n",
    "    x=\"enclosing scope\"\n",
    "    print(x)\n",
    "    def inner_fun():\n",
    "        x=\"local scope\"\n",
    "        print(x)\n",
    "    inner_fun()\n",
    "print(x)\n",
    "outer_fun()"
   ]
  },
  {
   "cell_type": "code",
   "execution_count": 5,
   "metadata": {},
   "outputs": [
    {
     "name": "stdout",
     "output_type": "stream",
     "text": [
      "using __doc__\n",
      "demonstrate tripple single quotes\n",
      "    docstrings\n",
      "using help:\n",
      "Help on function my_function in module __main__:\n",
      "\n",
      "my_function()\n",
      "    demonstrate tripple single quotes\n",
      "    docstrings\n",
      "\n"
     ]
    }
   ],
   "source": [
    "def my_function():\n",
    "    '''demonstrate tripple single quotes\n",
    "    docstrings'''\n",
    "    return None\n",
    "\n",
    "print(\"using __doc__\")\n",
    "print(my_function.__doc__)\n",
    "\n",
    "print(\"using help:\")\n",
    "help(my_function)"
   ]
  },
  {
   "cell_type": "code",
   "execution_count": 6,
   "metadata": {},
   "outputs": [
    {
     "name": "stdout",
     "output_type": "stream",
     "text": [
      "print(value, ..., sep=' ', end='\\n', file=sys.stdout, flush=False)\n",
      "\n",
      "Prints the values to a stream, or to sys.stdout by default.\n",
      "Optional keyword arguments:\n",
      "file:  a file-like object (stream); defaults to the current sys.stdout.\n",
      "sep:   string inserted between values, default a space.\n",
      "end:   string appended after the last value, default a newline.\n",
      "flush: whether to forcibly flush the stream.\n"
     ]
    }
   ],
   "source": [
    "print(print.__doc__)"
   ]
  },
  {
   "cell_type": "code",
   "execution_count": 9,
   "metadata": {},
   "outputs": [
    {
     "name": "stdout",
     "output_type": "stream",
     "text": [
      "This module provides access to the mathematical functions\n",
      "defined by the C standard.\n"
     ]
    }
   ],
   "source": [
    "import math\n",
    "print(math.__doc__)"
   ]
  },
  {
   "cell_type": "code",
   "execution_count": 11,
   "metadata": {},
   "outputs": [
    {
     "name": "stdout",
     "output_type": "stream",
     "text": [
      "using function defination with 'def' keyword,cube: 125\n",
      "using lambda function , cube 125\n"
     ]
    }
   ],
   "source": [
    "def cube(y):\n",
    "    return y*y*y\n",
    "\n",
    "lambda_cube = lambda y: y*y*y\n",
    "\n",
    "print(\"using function defination with 'def' keyword,cube:\",cube(5))\n",
    "print(\"using lambda function , cube\",lambda_cube(5))"
   ]
  },
  {
   "cell_type": "code",
   "execution_count": 3,
   "metadata": {},
   "outputs": [
    {
     "name": "stdout",
     "output_type": "stream",
     "text": [
      "even number\n"
     ]
    }
   ],
   "source": [
    "calc =lambda num:\"even number\" if num%2==0 else \"odd number\"\n",
    "print(calc(2))"
   ]
  },
  {
   "cell_type": "code",
   "execution_count": 17,
   "metadata": {},
   "outputs": [
    {
     "name": "stdout",
     "output_type": "stream",
     "text": [
      "4\n",
      "64\n",
      "from user def: 5\n"
     ]
    }
   ],
   "source": [
    "val1=lambda n:n*n       #2*2 exprection\n",
    "val2=lambda n:n*n*n     #2*2*2\n",
    "ans=val1(2)             #passing the value #2 storing in ans\n",
    "print(ans)              #printing the ans  \n",
    "print(val2(ans))        #printing the val2 ans\n",
    "\n",
    "def call_func():        #user define function\n",
    "    ans = val1(2)+1     \n",
    "    print(\"from user def:\",ans) #printing the ans\n",
    "    \n",
    "call_func()             #function call"
   ]
  },
  {
   "cell_type": "code",
   "execution_count": 22,
   "metadata": {},
   "outputs": [
    {
     "data": {
      "text/plain": [
       "True"
      ]
     },
     "execution_count": 22,
     "metadata": {},
     "output_type": "execute_result"
    }
   ],
   "source": [
    "#program to find the odd and even\n",
    "\n",
    "ans=lambda num:True if num%2==0 else False\n",
    "ans(2)\n"
   ]
  },
  {
   "attachments": {},
   "cell_type": "markdown",
   "metadata": {},
   "source": [
    "generator"
   ]
  },
  {
   "cell_type": "code",
   "execution_count": 2,
   "metadata": {},
   "outputs": [
    {
     "name": "stdout",
     "output_type": "stream",
     "text": [
      "1\n",
      "8\n",
      "27\n"
     ]
    }
   ],
   "source": [
    "def gen1(a):\n",
    "    for i in a:\n",
    "        yield i*i*i\n",
    "\n",
    "num=[1,2,3]\n",
    "cube_num=gen1(num)\n",
    "\n",
    "for i in cube_num:\n",
    "    print(i)"
   ]
  },
  {
   "cell_type": "code",
   "execution_count": 3,
   "metadata": {},
   "outputs": [
    {
     "name": "stdout",
     "output_type": "stream",
     "text": [
      "729\n",
      "512\n",
      "343\n"
     ]
    }
   ],
   "source": [
    "def gen1(a):\n",
    "    for i in a:\n",
    "        yield i*i*i\n",
    "\n",
    "num=[9,8,7]\n",
    "cube_num=gen1(num)\n",
    "\n",
    "for i in cube_num:\n",
    "    print(i)"
   ]
  },
  {
   "cell_type": "code",
   "execution_count": 4,
   "metadata": {},
   "outputs": [
    {
     "name": "stdout",
     "output_type": "stream",
     "text": [
      "1\n",
      "2\n",
      "3\n"
     ]
    }
   ],
   "source": [
    "def simgenfun():\n",
    "    yield 1\n",
    "    yield 2\n",
    "    yield 3\n",
    "\n",
    "for value in simgenfun():\n",
    "    print(value)"
   ]
  },
  {
   "attachments": {},
   "cell_type": "markdown",
   "metadata": {},
   "source": [
    "genetate 10 odd numbres and sum them all and print the total sum"
   ]
  },
  {
   "cell_type": "code",
   "execution_count": 29,
   "metadata": {},
   "outputs": [
    {
     "name": "stdout",
     "output_type": "stream",
     "text": [
      "100\n"
     ]
    }
   ],
   "source": [
    "def gen():\n",
    "    for i in range(1,20):\n",
    "        if i % 2 != 0:\n",
    "            yield i\n",
    "    \n",
    "def sum():\n",
    "    S=0\n",
    "    for value in gen():\n",
    "        S=S+value\n",
    "    print(S)\n",
    "sum()"
   ]
  },
  {
   "attachments": {},
   "cell_type": "markdown",
   "metadata": {},
   "source": [
    "genetate 10 even numbres and sum them all and print the total sum"
   ]
  },
  {
   "cell_type": "code",
   "execution_count": 30,
   "metadata": {},
   "outputs": [
    {
     "name": "stdout",
     "output_type": "stream",
     "text": [
      "90\n"
     ]
    }
   ],
   "source": [
    "def gen():\n",
    "    for i in range(1,20):\n",
    "        if i % 2 == 0:\n",
    "            yield i\n",
    "    \n",
    "def sum():\n",
    "    S=0\n",
    "    for value in gen():\n",
    "        S=S+value\n",
    "    print(S)\n",
    "sum()"
   ]
  },
  {
   "attachments": {},
   "cell_type": "markdown",
   "metadata": {},
   "source": [
    "generate the numbers which are divisible by 7"
   ]
  },
  {
   "cell_type": "code",
   "execution_count": 38,
   "metadata": {},
   "outputs": [
    {
     "name": "stdout",
     "output_type": "stream",
     "text": [
      "7\n",
      "14\n",
      "21\n",
      "28\n",
      "35\n",
      "42\n",
      "49\n",
      "56\n",
      "63\n",
      "70\n",
      "77\n",
      "84\n",
      "91\n",
      "98\n"
     ]
    }
   ],
   "source": [
    "def gen():\n",
    "    for i in range(1,105):\n",
    "        if i % 7 == 0:\n",
    "            yield i\n",
    "    \n",
    "for value in gen():\n",
    "    print(value)"
   ]
  },
  {
   "cell_type": "code",
   "execution_count": 1,
   "metadata": {},
   "outputs": [
    {
     "data": {
      "text/plain": [
       "[[1], [3], [5], [7], [9], [11]]"
      ]
     },
     "execution_count": 1,
     "metadata": {},
     "output_type": "execute_result"
    }
   ],
   "source": [
    "list6 = [[i+1] for i in range(12) if i % 2 ==0]\n",
    "list6"
   ]
  },
  {
   "cell_type": "code",
   "execution_count": 19,
   "metadata": {},
   "outputs": [
    {
     "data": {
      "text/plain": [
       "[[1, 3, 5, 7, 9, 11],\n",
       " [1, 3, 5, 7, 9, 11],\n",
       " [1, 3, 5, 7, 9, 11],\n",
       " [1, 3, 5, 7, 9, 11],\n",
       " [1, 3, 5, 7, 9, 11],\n",
       " [1, 3, 5, 7, 9, 11]]"
      ]
     },
     "execution_count": 19,
     "metadata": {},
     "output_type": "execute_result"
    }
   ],
   "source": [
    "list6 = [[j for j in range(12) if j % 2 !=0] for i in range(6)]\n",
    "list6"
   ]
  },
  {
   "cell_type": "code",
   "execution_count": 35,
   "metadata": {},
   "outputs": [
    {
     "name": "stdout",
     "output_type": "stream",
     "text": [
      "['Orange', 'Banana', 'mango']\n"
     ]
    }
   ],
   "source": [
    "fruits = [\"Orange\",\"Banana\",\"mango\",\"grps\"]\n",
    "fruit_list =[i for i in fruits if i.find('a')!= -1]\n",
    "print(fruit_list)"
   ]
  },
  {
   "cell_type": "code",
   "execution_count": 32,
   "metadata": {},
   "outputs": [
    {
     "name": "stdout",
     "output_type": "stream",
     "text": [
      "-1\n"
     ]
    }
   ],
   "source": [
    "fruits = 'Orange'\n",
    "print(fruits.find('h'))"
   ]
  },
  {
   "attachments": {},
   "cell_type": "markdown",
   "metadata": {},
   "source": [
    "try catch 1-5-2023\n"
   ]
  },
  {
   "cell_type": "code",
   "execution_count": 70,
   "metadata": {},
   "outputs": [
    {
     "name": "stdout",
     "output_type": "stream",
     "text": [
      "sorry ! your are dividing by zero\n"
     ]
    }
   ],
   "source": [
    "def divide(x,y):\n",
    "    try:\n",
    "        result= x//y \n",
    "        print(\"yeah ! your answer is:\",result)\n",
    "    except ZeroDivisionError:\n",
    "        print(\"sorry ! your are dividing by zero\")\n",
    "\n",
    "divide(3,0)"
   ]
  },
  {
   "cell_type": "code",
   "execution_count": 37,
   "metadata": {},
   "outputs": [
    {
     "name": "stdout",
     "output_type": "stream",
     "text": [
      "sorry ! your are dividing by zero\n"
     ]
    }
   ],
   "source": [
    "def divide(x,y):\n",
    "    a=[1,2,3]\n",
    "    try:\n",
    "        print(a[4])\n",
    "        result= x//y \n",
    "        print(\"yeah ! your answer is:\",x,y,result)\n",
    "    except ZeroDivisionError:\n",
    "        print(\"sorry ! your are dividing by zero\")\n",
    "    except IndexError:\n",
    "        print(\"index exception raise\")\n",
    "    except:\n",
    "        print(\"empt expectiony\")\n",
    "divide(3,0)"
   ]
  },
  {
   "cell_type": "code",
   "execution_count": 3,
   "metadata": {},
   "outputs": [
    {
     "name": "stdout",
     "output_type": "stream",
     "text": [
      "Square Root of 96 is 9.797958971132712\n"
     ]
    }
   ],
   "source": [
    "import math\n",
    "\n",
    "x = int(input(' enter a positive number:'))\n",
    "\n",
    "try:\n",
    "    print(f'Square Root of {x} is {math.sqrt(x)}')\n",
    "except ValueError:\n",
    "    print(f'You entered {x}, which is not a positive number.')\n",
    "    \n"
   ]
  },
  {
   "cell_type": "code",
   "execution_count": 69,
   "metadata": {},
   "outputs": [
    {
     "name": "stdout",
     "output_type": "stream",
     "text": [
      "i am finally printing\n"
     ]
    }
   ],
   "source": [
    "def fun():\n",
    "    try:\n",
    "        file_handler=open(\"a.txt\",\"w\")\n",
    "        file_handler.write(\"hello python1\")\n",
    "    except:\n",
    "        print(\"Exception raised\")\n",
    "    finally:\n",
    "        file_handler.close()\n",
    "        print(\"i am finally printing\")\n",
    "fun()"
   ]
  },
  {
   "cell_type": "code",
   "execution_count": 75,
   "metadata": {},
   "outputs": [
    {
     "name": "stdout",
     "output_type": "stream",
     "text": [
      "Expection\n"
     ]
    }
   ],
   "source": [
    "def fun():\n",
    "    try:\n",
    "        a=10\n",
    "        if(a>2):\n",
    "            raise NameError(\"Exception Raised from fun\")\n",
    "    except NameError:\n",
    "        print(\"Expection\")\n",
    "fun()"
   ]
  },
  {
   "cell_type": "code",
   "execution_count": 8,
   "metadata": {},
   "outputs": [
    {
     "name": "stdout",
     "output_type": "stream",
     "text": [
      "['1', '2', '3', '4', '5', '6']\n",
      "['a', 'b', 'c', 'd', 'e', 'f']\n"
     ]
    }
   ],
   "source": [
    "import csv\n",
    "\n",
    "with open(\"E:/Fullstack/Book1.csv\",\"r\") as file_object: \n",
    "    \n",
    "    data = csv.reader(file_object)\n",
    "    for line in data:\n",
    "        print(line)\n",
    "    "
   ]
  },
  {
   "cell_type": "code",
   "execution_count": 13,
   "metadata": {},
   "outputs": [
    {
     "name": "stdout",
     "output_type": "stream",
     "text": [
      "Shivam Mavi\n",
      "Joshua Little\n",
      "Kane Williamson\n",
      "K.S. Bharat\n",
      "Mohit Sharma\n",
      "Odean Smith\n",
      "Urvil Patel\n",
      "Rahul Tewatia\n",
      "Pradeep Sangwan\n",
      "Rashid Khan\n",
      "R. Sai Kishore\n",
      "Yash Dayal\n",
      "Noor Ahmad\n",
      "Wriddhiman Saha\n",
      "Vijay Shankar\n",
      "Shubman Gill\n",
      "Hardik Pandya\n",
      "B. Sai Sudharsan\n",
      "Alzarri Joseph\n",
      "Abhinav Sadarangani\n",
      "Darshan Nalkande\n",
      "David Miller\n",
      "Matthew Wade\n",
      "Jayant Yadav\n",
      "Mohammad Shami\n",
      "Ben Stokes\n",
      "Kyle Jamieson\n",
      "Nishant Sindhu\n",
      "Ajinkya Rahane\n",
      "Bhagath Varma\n",
      "Ajay Mandal\n",
      "Shaik Rasheed\n",
      "Ravindra Jadeja\n",
      "Rajvardhan Hangargekar\n",
      "Prashant Solanki\n",
      "Ruturaj Gaikwad\n",
      "Tushar Deshpande\n",
      "Mukesh Choudhary\n",
      "Subhranshu Senapati\n",
      "Simarjeet Singh\n",
      "Shivam Dube\n",
      "Matheesha Pathirana\n",
      "Devon Conway\n",
      "Deepak Chahar\n",
      "Ambati Rayudu\n",
      "Dwaine Pretorius\n",
      "Maheesh Theekshana\n",
      "Moeen Ali\n",
      "Mitchell Santner\n",
      "MS Dhoni\n",
      "Mukesh Kumar\n",
      "Rilee Rossouw\n",
      "Manish Pandey\n",
      "Phil Salt\n",
      "Ishant Sharma\n",
      "Ripal Patel\n",
      "Pravin Dubey\n",
      "Rishabh Pant\n",
      "Prithvi Shaw\n",
      "Syed Khaleel Ahmed\n",
      "Yash Dhull\n",
      "Vicky Ostwal\n",
      "Mustafizur Rahman\n",
      "Sarfaraz Khan\n",
      "Rovman Powell\n",
      "Lalit Yadav\n",
      "Axar Patel\n",
      "Anrich Nortje\n",
      "Aman Khan (T)\n",
      "Chetan Sakariya\n",
      "David Warner\n",
      "Lungisani Ngidi\n",
      "Kuldeep Yadav\n",
      "Kamlesh Nagarkoti\n",
      "Mitchell Marsh\n",
      "Shakib Al Hasan\n",
      "David Wiese\n",
      "N. Jagadeesan\n",
      "Vaibhav Arora\n",
      "Litton Das\n",
      "Mandeep Singh\n",
      "Kulwant Khejroliya\n",
      "Suyash Sharma\n",
      "Sunil Narine\n",
      "Shreyas Iyer\n",
      "Tim Southee\n",
      "Umesh Yadav\n",
      "Varun Chakaravarthy\n",
      "Shardul Thakur (T)\n",
      "Venkatesh Iyer\n",
      "Harshit Rana\n",
      "Anukul Roy\n",
      "Andre Russell\n",
      "Lockie Ferguson (T)\n",
      "Nitish Rana\n",
      "Rahmanullah Gurbaz (T)\n",
      "Rinku Singh\n",
      "Sam Curran\n",
      "Sikandar Raza\n",
      "Harpreet Bhatia\n",
      "Mohit Rathee\n",
      "Vidwath Kaverappa\n",
      "Shivam Singh\n",
      "Liam Livingstone\n",
      "Baltej Singh Dhanda\n",
      "Atharva Taide\n",
      "Bhanuka Rajapakse\n",
      "Jitesh Sharma\n",
      "Nathan Ellis\n",
      "Jonny Bairstow\n",
      "Kagiso Rabada\n",
      "Harpreet Brar\n",
      "Shahrukh Khan\n",
      "Shikhar Dhawan\n",
      "Rahul Chahar\n",
      "Arshdeep Singh\n",
      "Prabhsimran Singh\n",
      "Raj Angad Bawa\n",
      "Rishi Dhawan\n",
      "Nicholas Pooran\n",
      "Daniel Sams\n",
      "Jaydev Unadkat\n",
      "Naveen Ul Haq\n",
      "Amit Mishra\n",
      "Romario Shepherd\n",
      "Yash Thakur\n",
      "Swapnil Singh\n",
      "Yudhvir Charak\n",
      "Prerak Mankad\n",
      "Mark Wood\n",
      "Marcus Stoinis\n",
      "Mayank Yadav\n",
      "Mohsin Khan\n",
      "Quinton De Kock\n",
      "Manan Vohra\n",
      "Ravi Bishnoi\n",
      "Deepak Hooda\n",
      "Ayush Badoni\n",
      "Avesh Khan\n",
      "K. Gowtham\n",
      "Karan Sharma\n",
      "Krunal Pandya\n",
      "KL Rahul\n",
      "Kyle Mayers\n",
      "Cameron Green\n",
      "Jhye Richardson\n",
      "Piyush Chawla\n",
      "Raghav Goyal\n",
      "Shams Mulani\n",
      "Nehal Wadhera\n",
      "Vishnu Vinod\n",
      "Duan Jansen\n",
      "Ramandeep Singh\n",
      "N. Tilak Varma\n",
      "Mohd. Arshad Khan\n",
      "Rohit Sharma\n",
      "Suryakumar Yadav\n",
      "Kumar Kartikeya Singh\n",
      "Tristan Stubbs*\n",
      "Tim David\n",
      "Hrithik Shokeen\n",
      "Arjun Tendulkar\n",
      "Akash Madhwal\n",
      "Dewald Brevis\n",
      "Ishan Kishan\n",
      "Jasprit Bumrah\n",
      "Jason Behrendorff (T)\n",
      "Jofra Archer\n",
      "Will Jacks\n",
      "Reece Topley\n",
      "Rajan Kumar\n",
      "Avinash Singh\n",
      "Manoj Bhandage\n",
      "Sonu Yadav\n",
      "Himanshu Sharma\n",
      "Rajat Patidar\n",
      "Mahipal Lomror\n",
      "Shahbaz Ahamad\n",
      "Mohammed Siraj\n",
      "Wanindu Hasaranga\n",
      "Karn Sharma\n",
      "Virat Kohli\n",
      "Suyash Prabhudessai\n",
      "Siddharth Kaul\n",
      "Finn Allen\n",
      "David Willey\n",
      "Anuj Rawat\n",
      "Akash Deep\n",
      "Dinesh Karthik\n",
      "Faf Du Plessis\n",
      "Harshal Patel\n",
      "Glenn Maxwell\n",
      "Josh Hazlewood\n",
      "Jason Holder\n",
      "Adam Zampa\n",
      "Joe Root\n",
      "Donovan Ferreira\n",
      "K.M. Asif\n",
      "Kunal Rathore\n",
      "Abdul P A\n",
      "Akash Vashisht\n",
      "Murugan Ashwin\n",
      "Sanju Samson\n",
      "Riyan Parag\n",
      "R. Ashwin\n",
      "Shimron Hetmyer\n",
      "Trent Boult\n",
      "Prasidh Krishna\n",
      "Yuzvendra Chahal\n",
      "Yashasvi Jaiswal\n",
      "K.C Cariappa\n",
      "Dhruv Jurel\n",
      "Devdutt Padikkal\n",
      "Jos Buttler\n",
      "Kuldeep Sen\n",
      "Navdeep Saini\n",
      "Kuldip Yadav\n",
      "Obed Mccoy\n",
      "Harry Brook\n",
      "Mayank Agarwal\n",
      "Heinrich Klaasen\n",
      "Vivrant Sharma\n",
      "Adil Rashid\n",
      "Mayank Dagar\n",
      "Akeal Hosein\n",
      "Mayank Markande\n",
      "Upendra Singh Yadav\n",
      "Nitish Kumar Reddy\n",
      "Samarth Vyas\n",
      "Anmolpreet Singh\n",
      "Sanvir Singh\n",
      "Marco Jansen\n",
      "Rahul Tripathi\n",
      "Umran Malik\n",
      "Washington Sundar\n",
      "Kartik Tyagi\n",
      "T. Natarajan\n",
      "Fazalhaq Farooqi\n",
      "Abdul Samad\n",
      "Abhishek Sharma\n",
      "Aiden Markram\n",
      "Bhuvneshwar Kumar\n",
      "Glenn Phillips\n",
      "Tom Banton\n",
      "Kusal Mendis\n",
      "Chris Jordan\n",
      "Adam Milne\n",
      "Mujeeb Rahman\n",
      "Tabraiz Shamsi\n",
      "Shubham Khajuria\n",
      "Rohan Kunnummal\n",
      "Chethan L.R.\n",
      "Himmat Singh\n",
      "Corbin Bosch\n",
      "Priyam Garg\n",
      "Saurabh Kumar\n",
      "Shashank Singh\n",
      "Mohammed Azharuddeen\n",
      "Dinesh Bana\n",
      "Abhimanyu Easwaran\n",
      "Sumit Kumar\n",
      "Lance Morris\n",
      "Mujtaba Yousuf\n",
      "Chintal Gandhi\n",
      "Shreyas Gopal\n",
      "S Midhun\n",
      "Izharulhuq Naveed\n",
      "Travis Head\n",
      "Dawid Malan\n",
      "Sherfane Rutherford\n",
      "Paul Stirling\n",
      "Rassie Van Der Dussen\n",
      "Daryl Mitchell\n",
      "Mohammad Nabi\n",
      "Jimmy Neesham\n",
      "Wayne Parnell\n",
      "Dasun Shanaka\n",
      "Taskin Ahmed\n",
      "Dushmanta Chameera\n",
      "Riley Meredith\n",
      "Blessing Muzarabani\n",
      "Sandeep Sharma\n",
      "Johnson Charles\n",
      "Andre Fletcher\n",
      "Shai Hope\n",
      "Tom Latham\n",
      "Joshua Philippe\n",
      "Lorcan Tucker\n",
      "Shahbaz Nadeem\n",
      "Ish Sodhi\n",
      "Sachin Baby\n",
      "Ashwin Hebbar\n",
      "Pukhraj Mann\n",
      "Akshat Raghuwanshi\n",
      "Himanshu Rana\n",
      "Shoun Roger\n",
      "Virat Singh\n",
      "Will Smeed\n",
      "Apoorv Wankhade\n",
      "Gerald Coetzee\n",
      "Evan Jones\n",
      "Abid Mushtaq\n",
      "Suryansh Shedge\n",
      "Jagadeesha Suchith\n",
      "Ricky Bhui\n",
      "Baba Indrajith\n",
      "Sheldon Jackson\n",
      "Aryan Juyal\n",
      "Kirant Shinde\n",
      "Luvnith Sisodia\n",
      "Vishnu Solanki\n",
      "Aniket Choudhary\n",
      "Ravi Kumar\n",
      "Sushant Mishra\n",
      "Arzan Nagwaswalla\n",
      "Ishan Porel\n",
      "Akash Singh\n",
      "Basil Thampi\n",
      "Paul Van Meekeren\n",
      "Vyshak Vijay Kumar\n",
      "S.Ajith Ram\n",
      "Satyajeet Bachhav\n",
      "Tejas Baroka\n",
      "Yuvraj Chudasama\n",
      "Peter Hatzoglou\n",
      "Karthik Meiyappan\n",
      "Shivam Sharma\n",
      "Reeza Hendricks\n",
      "Christiaan Jonker\n",
      "Brandon King\n",
      "Chris Lynn\n",
      "Karun Nair\n",
      "Pathum Nissaanka\n",
      "Jason Roy\n",
      "Gurkeerat Singh\n",
      "Harry Tector\n",
      "Najibullah Zadran\n",
      "Sean Abbott\n",
      "Qais Ahmad\n",
      "Charith Asalanka\n",
      "Michael Bracewell\n",
      "Dominic Drakes\n",
      "George Garton\n",
      "Chamika Karunaratne\n",
      "Jamie Overton\n",
      "Sandeep Warrier\n",
      "Ben Dwarshuis\n",
      "Richard Gleeson\n",
      "Lahiru Kumara\n",
      "Dilshan Madushanka\n",
      "Billy Stanlake\n",
      "Andrew Tye\n",
      "Luke Wood\n",
      "Priyansh Arya\n",
      "Matthew Breetzke\n",
      "Shivam Chauhan\n",
      "Rahul Gahlaut\n",
      "Sudip Gharami\n",
      "C. Hari Nishaanth\n",
      "Amandeep Khare\n",
      "Bhanu Pania\n",
      "Ekant Sen\n",
      "Akash Singh\n",
      "Himanshu Bisht\n",
      "Mickil Jaiswal\n",
      "G.Aniketh Reddy\n",
      "Atit Sheth\n",
      "M. Siddharth\n",
      "Tanay Thyagarajann\n",
      "Sumeet Verma\n",
      "Sanjay Yadav\n",
      "Ajitesh Guruswamy\n",
      "Yash Kothari\n",
      "Suresh Kumar\n",
      "Kumar Kushagra\n",
      "Anmol Malhotra\n",
      "Robin Minz\n",
      "Agniv Pan\n",
      "Priyesh Patel\n",
      "Mitesh Patel\n",
      "Abishek Porel\n",
      "Bharat Sharma\n",
      "Vivek Singh\n",
      "Abhijeet Tomar\n",
      "Basit Bashir\n",
      "Nandre Burger\n",
      "Rasikh Dar\n",
      "Sakib Hussain\n",
      "Waseem Khanday\n",
      "Ravi Kiran Majeti\n",
      "Lukman Hussain Meriwala\n",
      "Anuj Raj\n",
      "Ankit Singh Rajpoot\n",
      "Prince Yadav\n",
      "Prithviraj Yarra\n",
      "Mushtaq Beg\n",
      "Rocky Bhasker\n",
      "Sanjith Devaraj\n",
      "Allah Mohammad\n",
      "Lalit Mohan\n",
      "Bhuwan Rohilla\n",
      "Aman Sharma\n",
      "Manav Suthar\n",
      "Tom Curran\n",
      "Moises Henriques\n",
      "Afif Hossain\n",
      "Scott Kuggeleijn\n",
      "Sisanda Magala\n",
      "Craig Overton\n",
      "Darcy Short\n",
      "Dhananjaya Silva\n",
      "Dunith Wellalage\n",
      "Varun Aaron\n",
      "Sheldon Cottrel\n",
      "Nathan Coulter-Nile\n",
      "Daryn Dupavillon\n",
      "Matt Henry\n",
      "Dhawal Kulkarni\n",
      "Tymal Mills\n",
      "David Payne\n",
      "Barinder Sran\n",
      "Glenton Stuurman\n",
      "Anirudh Balachander\n",
      "Gourav Choudhary\n",
      "Saurav Chuahan\n",
      "Kumar Deobrat\n",
      "Chirag Gandhi\n",
      "Arman Jaffer\n",
      "Madhav Kaushik\n",
      "Priyank Panchal\n",
      "Ayush Pandey\n",
      "Rohan Patil\n",
      "Sanjay Ramaswamy\n",
      "Siddharth Yadav\n",
      "Rehan Ahmed\n",
      "Prayas Barman\n",
      "Rahul Buddhi\n",
      "Vaisakh Chandran\n",
      "Writtick Chatterjee\n",
      "Prashant Chopra\n",
      "Harsh Dubey\n",
      "Tanush Kotian\n",
      "Ninad Rathva\n",
      "B. Surya\n",
      "Jordan Thompson\n",
      "Shivank Vashisth\n",
      "Ankush Bains\n",
      "Christopher Benjamin\n",
      "Connor Esterhuizen\n",
      "Mohd Arslan Khan\n",
      "Mamidi Krishna\n",
      "Fazil Makaya\n",
      "Akshdeep Nath\n",
      "Deepak Punia\n",
      "Ateev Saini\n",
      "Bipin Saurabh\n",
      "B.R. Sharath\n",
      "Yashovardhan Singh\n",
      "Lakshay Thareja\n",
      "Mohit Avasthi\n",
      "Ottneil Baartman\n",
      "Gurnoor Singh Brar\n",
      "Shahrukh Dar\n",
      "Thomas Helm\n",
      "Pankaj Jaswal\n",
      "Venkatesh Muralidhara\n",
      "Geet Puri\n",
      "E. Sanketh\n",
      "Ajay Sarkar\n",
      "Ashok Sharma\n",
      "Kanwar Singh\n",
      "Fabian Allen\n",
      "Carlos Brathwaite\n",
      "Roston Chase\n",
      "Rahkeem Cornwall\n",
      "Karim Janat\n",
      "Keshav Maharaj\n",
      "Pawan Negi\n",
      "Keemo Paul\n",
      "Shivam Chaudhary\n",
      "Ashwin Das\n",
      "James Fuller\n",
      "Chirag Jani\n",
      "Akshay Karnewar\n",
      "Bhagmender Lather\n",
      "Lone Muzaffar\n",
      "Pulkit Narang\n",
      "Rohit Rayudu\n",
      "Sameer Rizvi\n",
      "Tunish Sawkar\n",
      "Auqib Dar\n",
      "Mukhtar Hussain\n",
      "Ashwani Kumar\n",
      "Hemant Kumar\n",
      "Nathan McAndrew\n",
      "Rajesh Mohanty\n",
      "Ravi Sharma\n",
      "Vikash Singh\n",
      "Ruben Trumpelmann\n",
      "Koushik Vasuki\n",
      "Vasu Vats\n",
      "Shubham Agrawal\n",
      "Baba Aparajith\n",
      "Anshul Kamboj\n",
      "Azim Kazi\n",
      "Dev Lakra\n",
      "Jitender Pal\n",
      "Ritwik Roy Chowdhury\n",
      "Utkarsh Singh\n",
      "Shubham Singh\n",
      "Avneesh Sudha\n",
      "Asad Jamil Ahmed\n",
      "Bandaru Ayyappa\n",
      "Aashish Bhatt\n",
      "McKenny Clarke\n",
      "Shubham Kapse\n",
      "Gourav Koul\n",
      "Raunak Kumar\n",
      "Trilok Nag\n",
      "Atal Bihari Rai\n",
      "Ramon Simmonds\n",
      "Rajeev Singh\n",
      "Mohd. Wasim\n",
      "Atharva Ankolekar\n",
      "Khizar Dafedar\n",
      "Naman Dhir\n",
      "Sahil Dhiwan\n",
      "Sampark Gupta\n",
      "Jordan Hermann\n",
      "Hayden Kerr\n",
      "Salman Khan\n",
      "Sairaj Patil\n",
      "Divyaansh Saxena\n",
      "Purnank Tyagi\n",
      "Prince Yadav\n",
      "Deepraj Gaonkar\n",
      "Shubham Garhwal\n",
      "Benny Howell\n",
      "Deepesh Nailwal\n",
      "Arjun Rapria\n",
      "Shashwat Rawat\n",
      "Sumit Ruikar\n",
      "Shivam Sharma\n",
      "Rajandeep Singh\n",
      "Anunay Singh\n",
      "Digvesh Singh\n",
      "Pranshu Vijayran\n",
      "Prerit Dutta\n",
      "Ramakrishna Ghosh\n",
      "Shubhang Hegde\n",
      "Shamshuzama Kazi\n",
      "Ayaz Khan\n",
      "Amit Pachhara\n",
      "Akul Pandove\n",
      "Garv Sangwan\n",
      "Shubham Sharma\n",
      "Amit Yadav\n",
      "Amit Ali\n",
      "Rishabh Chauhan\n",
      "Matthew Forde\n",
      "Sammar Gajjar\n",
      "Rajneesh Gurbani\n",
      "Divyansh Joshi\n",
      "Dhruv Patel\n",
      "Jack Prestwidge\n",
      "Aditya Sarvate\n",
      "Sagar Solanki\n",
      "Prenelan Subrayen\n"
     ]
    }
   ],
   "source": [
    "import csv\n",
    "\n",
    "i=0\n",
    "max=1\n",
    "with open(\"E:/Fullstack/dataset/ipl_2023_dataset.csv\",\"r\") as file_object:\n",
    "\n",
    "    data = csv.reader(file_object) # it will read the data from csv file store in data\n",
    "    \n",
    "    for line in data:   # reads from iterable data object and puts each line in line object for  every loop\n",
    "        i=i+1\n",
    "        \n",
    "        if i==1:\n",
    "            continue\n",
    "        if (line[0]):\n",
    "            print(line[0])"
   ]
  },
  {
   "cell_type": "code",
   "execution_count": 36,
   "metadata": {},
   "outputs": [
    {
     "name": "stdout",
     "output_type": "stream",
     "text": [
      "BOWLER: Reece Topley\n",
      "BOWLER: Rajan Kumar\n",
      "BOWLER: Avinash Singh\n",
      "ALL-ROUNDER Manoj Bhandage\n",
      "ALL-ROUNDER Sonu Yadav\n",
      "BOWLER: Himanshu Sharma\n",
      "BOWLER: Mahipal Lomror\n",
      "ALL-ROUNDER Shahbaz Ahamad\n",
      "BOWLER: Mohammed Siraj\n",
      "ALL-ROUNDER Wanindu Hasaranga\n",
      "BOWLER: Karn Sharma\n",
      "ALL-ROUNDER Suyash Prabhudessai\n",
      "BOWLER: Siddharth Kaul\n",
      "ALL-ROUNDER David Willey\n",
      "BOWLER: Akash Deep\n",
      "ALL-ROUNDER Harshal Patel\n",
      "ALL-ROUNDER Glenn Maxwell\n",
      "BOWLER: Josh Hazlewood\n"
     ]
    }
   ],
   "source": [
    "import csv\n",
    "\n",
    "with open(\"E:/Fullstack/dataset/ipl_2023_dataset.csv\",\"r\") as file_object:\n",
    "\n",
    "    data = csv.reader(file_object) # it will read the data from csv file store in data\n",
    "    \n",
    "    for line in data:   # reads from iterable data object and puts each line in line object for  every loop\n",
    "        if line[6]==\"RCB\":\n",
    "                if line[2]==\"ALL-ROUNDER\":\n",
    "                    print(\"ALL-ROUNDER\",line[0])\n",
    "\n",
    "                if line[2]==\"BOWLER\":\n",
    "                    print(\"BOWLER:\",line[0])"
   ]
  },
  {
   "cell_type": "code",
   "execution_count": 44,
   "metadata": {},
   "outputs": [
    {
     "name": "stdout",
     "output_type": "stream",
     "text": [
      "Blood & Water\n",
      "Ganglands\n",
      "Jailbirds New Orleans\n",
      "Kota Factory\n",
      "Midnight Mass\n",
      "The Great British Baking Show\n",
      "Vendetta: Truth, Lies and The Mafia\n",
      "Bangkok Breaking\n",
      "Crime Stories: India Detectives\n",
      "Dear White People\n",
      "Jaguar\n",
      "Monsters Inside: The 24 Faces of Billy Milligan\n",
      "Love on the Spectrum\n",
      "Chicago Party Aunt\n",
      "Squid Game\n",
      "Chhota Bheem\n",
      "He-Man and the Masters of the Universe\n",
      "Castle and Castle\n",
      "Nailed It\n",
      "Numberblocks\n",
      "Too Hot To Handle: Latino\n",
      "Jack Whitehall: Travels with My Father\n",
      "The World's Most Amazing Vacation Rentals\n",
      "Lucifer\n",
      "Metal Shop Masters\n",
      "Pokémon Master Journeys: The Series\n",
      "Into the Night\n",
      "The Circle\n",
      "Kid Cosmic\n",
      "Octonauts: Above & Beyond\n",
      "On the Verge\n",
      "Countdown: Inspiration4 Mission to Space\n",
      "Bunk'd\n",
      "Dive Club\n",
      "La casa de papel\n",
      "Money Heist: From Tokyo to Berlin\n",
      "Sharkdog\n",
      "Heroes of Goo Jit Zu\n",
      "Q-Force\n",
      "Brave Animated Series\n",
      "How to Be a Cowboy\n",
      "Turning Point: 9/11 and the War on Terror\n",
      "Sparking Joy\n",
      "Hometown Cha-Cha-Cha\n",
      "The Ingenuity of the Househusband\n",
      "D.P.\n",
      "I Heart Arlo\n",
      "King of Boys: The Return of the King\n",
      "RIDE ON TIME\n",
      "Titletown High\n",
      "EDENS ZERO\n",
      "Family Reunion\n",
      "Clickbait\n",
      "John of God: The Crimes of a Spiritual Healer\n",
      "Motel Makeover\n",
      "Open Your Eyes\n",
      "Post Mortem: No One Dies in Skarnes\n",
      "Oggy Oggy\n",
      "Manifest\n",
      "Comedy Premium League\n",
      "Everything Will Be Fine\n",
      "Korean Cold Noodle Rhapsody\n",
      "The Chair\n",
      "Go! Go! Cory Carson\n",
      "Brand New Cherry Flavor\n",
      "Fast & Furious Spy Racers\n",
      "Gone for Good\n",
      "Grace and Frankie\n",
      "The Kingdom\n",
      "Valeria\n",
      "AlRawabi School for Girls\n",
      "Bake Squad\n",
      "Gabby's Dollhouse\n",
      "I Need Romance\n",
      "SHAMAN KING\n",
      "Hit & Run\n",
      "Navarasa\n",
      "Car Masters: Rust to Riches\n",
      "Cocaine Cowboys: The Kings of Miami\n",
      "Control Z\n",
      "Cooking With Paris\n",
      "Top Secret UFO Projects: Declassified\n",
      "Charmed\n",
      "Centaurworld\n",
      "Glow Up\n",
      "Myth & Mogul: John DeLorean\n",
      "Outer Banks\n",
      "Transformers: War for Cybertron: Kingdom\n",
      "Tattoo Redo\n",
      "The Flash\n",
      "The Snitch Cartel: Origins\n",
      "All American\n",
      "How to Sell Drugs Online (Fast)\n",
      "Mighty Express\n",
      "Plastic Cup Boyz: Laughing My Mask Off!\n",
      "Feels Like Ishq\n",
      "Masters of the Universe: Revelation\n",
      "Revelations: The Masters of the Universe: Revelation Aftershow\n",
      "Sky Rojo\n",
      "The Movies That Made Us\n",
      "Sexy Beasts\n",
      "Too Hot to Handle: Brazil\n",
      "Explained\n",
      "Johnny Test\n",
      "Naomi Osaka\n",
      "BEASTARS\n",
      "Never Have I Ever\n",
      "Heist\n",
      "My Unorthodox Life\n",
      "Ridley Jones\n",
      "Atypical\n",
      "Biohackers\n",
      "How to Become a Tyrant\n",
      "The Cook of Castamar\n",
      "Virgin River\n",
      "Elize Matsunaga: Once Upon a Crime\n",
      "RESIDENT EVIL: Infinite Darkness\n",
      "Cat People\n",
      "Dogs\n",
      "The Mire\n",
      "The War Next-door\n",
      "Girl from Nowhere\n",
      "I Think You Should Leave with Tim Robinson\n",
      "Kim's Convenience\n",
      "Shtisel\n",
      "The A List\n",
      "Workin' Moms\n",
      "You Are My Spring\n",
      "We the People\n",
      "Generation 56k\n",
      "Masameer County\n",
      "Young Royals\n",
      "Somos.\n",
      "Sophie: A Murder in West Cork\n",
      "StarBeam\n",
      "The Seven Deadly Sins\n",
      "Ray\n",
      "Sex/Life\n",
      "Godzilla Singular Point\n",
      "Jiva!\n",
      "The Naked Director\n",
      "The Parisian Agency: Exclusive Properties\n",
      "Too Hot to Handle\n",
      "This Is Pop\n",
      "Nevertheless,\n",
      "Black Lightning\n",
      "Why Are You Like This\n",
      "Elite\n",
      "Hospital Playlist\n",
      "So Not Worth It\n",
      "The Rational Life\n",
      "Black Summer\n",
      "Elite Short Stories: Carla Samuel\n",
      "Katla\n",
      "Record of Ragnarok\n",
      "The Gift\n",
      "Elite Short Stories: Omar Ander Alexis\n",
      "Let's Eat\n",
      "Penguin Town\n",
      "Beyond Evil\n",
      "Elite Short Stories: Nadia Guzmán\n",
      "Power Rangers Dino Fury\n",
      "Rhyme Time Town\n",
      "Elite Short Stories: Guzmán Caye Rebe\n",
      "Love (ft. Marriage and Divorce)\n",
      "Lupin\n",
      "Trese\n",
      "Locombianos\n",
      "Fresh, Fried & Crispy\n",
      "L.A.’s Finest\n",
      "Feel Good\n",
      "Human: The World Within\n",
      "Sweet Tooth\n",
      "Creator's File: GOLD\n",
      "Pretty Guardian Sailor Moon Eternal The Movie\n",
      "Summertime\n",
      "Cocomelon\n",
      "Racket Boys\n",
      "The Platform\n",
      "The Kominsky Method\n",
      "The Least Expected Day: Inside the Movistar Team 2019\n",
      "Word of Honor\n",
      "Black Space\n",
      "Eden\n",
      "Ragnarok\n",
      "High on the Hog: How African American Cuisine Transformed America\n",
      "Mad for Each Other\n",
      "Master of None\n",
      "Jurassic World Camp Cretaceous\n",
      "The Neighbor\n",
      "Special\n",
      "Who Killed Sara?\n",
      "Booba: Food Puzzle\n",
      "Alma Matters\n",
      "Halston\n",
      "Haunted\n",
      "Love, Death & Robots\n",
      "Move to Heaven\n",
      "Castlevania\n",
      "The Upshaws\n",
      "Use For My Talent\n",
      "Money, Explained\n",
      "Mine\n",
      "Jupiter's Legacy\n",
      "Lava Ka Dhaava\n",
      "The Sons of Sam: A Descent into Darkness\n",
      "Trash Truck\n",
      "Pet Stars\n",
      "The Innocent\n",
      "The Unremarkable Juanquini\n",
      "Yasuke\n",
      "Headspace Guide to Sleep\n",
      "Sexify\n",
      "Fatma\n",
      "Let's Fight Ghost\n",
      "Shadow and Bone\n",
      "Life in Color with David Attenborough\n",
      "Zero\n",
      "Izzy's Koala World\n",
      "Luis Miguel - The Series\n",
      "Bakugan: Geogan Rising\n",
      "Love Naggers\n",
      "High-Rise Invasion\n",
      "Dad Stop Embarrassing Me!\n",
      "Fate: The Winx Saga\n",
      "Law School\n",
      "My Love: Six Stories of True Love\n",
      "Don't be the First one\n",
      "The Way of the Househusband\n",
      "The Big Day\n",
      "The Wedding Coach\n",
      "This Is a Robbery: The World's Biggest Art Heist\n",
      "Magical Andes\n",
      "Prank Encounters\n",
      "Worn Stories\n",
      "Haunted: Latin America\n",
      "Magic for Humans Spain\n",
      "The Irregulars\n",
      "DOTA: Dragon's Blood\n",
      "Pui Pui Molcar\n",
      "Men on a Mission\n",
      "Navillera\n",
      "Alien TV\n",
      "Country Comfort\n",
      "Formula 1: Drive to Survive\n",
      "B: The Beginning\n",
      "Under Suspicion: Uncovering the Wesphael Case\n",
      "Waffles + Mochi\n",
      "Abla Fahita: Drama Queen\n",
      "The Lost Pirate Kingdom\n",
      "Zero Chill\n",
      "Love Alarm\n",
      "Paradise PD\n",
      "The One\n",
      "Dealer\n",
      "Last Chance U: Basketball\n",
      "Marriage or Mortgage\n",
      "The Houseboat\n",
      "Bombay Begums\n",
      "City of Ghosts\n",
      "Nevenka: Breaking the Silence\n",
      "Pokémon Journeys: The Series\n",
      "Pacific Rim: The Black\n",
      "Murder Among the Mormons\n",
      "Word Party\n",
      "Age of Samurai: Battle for Japan\n",
      "Canine Intervention\n",
      "Ginny & Georgia\n",
      "Two Sentence Horror Stories\n",
      "Vincenzo\n",
      "Pitta Kathalu\n",
      "Tribes of Europa\n",
      "Hello, Me!\n",
      "Sisyphus\n",
      "Thus Spoke Kishibe Rohan\n",
      "Amend: The Fight for America\n",
      "Behind Her Eyes\n",
      "MeatEater\n",
      "Booba\n",
      "The Crew\n",
      "Buried by the Bernards\n",
      "Nadiya Bakes\n",
      "Crime Scene: The Vanishing at the Cecil Hotel\n",
      "Hache\n",
      "Invisible City\n",
      "Firefly Lane\n",
      "Tiffany Haddish Presents: They Ready\n",
      "We Are: The Brooklyn Saints\n",
      "50M2\n",
      "BONDING\n",
      "Go Dog Go\n",
      "Blown Away\n",
      "Busted!\n",
      "Daughter From Another Mother\n",
      "Spycraft\n",
      "Hello Ninja\n",
      "Bling Empire\n",
      "Carmen Sandiego\n",
      "Disenchantment\n",
      "Night Stalker: The Hunt for a Serial Killer\n",
      "Inside the World’s Toughest Prisons\n",
      "Mighty Little Bheem: Kite Festival\n",
      "Pretend It’s a City\n",
      "The Idhun Chronicles\n",
      "Surviving Death\n",
      "History of Swear Words\n",
      "Nailed It! Mexico\n",
      "Cobra Kai\n",
      "Dream Home Makeover\n",
      "Headspace Guide to Meditation\n",
      "Monarca\n",
      "Hilda\n",
      "Polly Pocket\n",
      "Love Is Blind\n",
      "The Netflix Afterparty\n"
     ]
    }
   ],
   "source": [
    "import csv\n",
    "\n",
    "i=0\n",
    "max=1\n",
    "with open(\"E:/Fullstack/dataset/netflix_titles.csv\",\"r\") as file_object:\n",
    "\n",
    "    data = csv.reader(file_object) # it will read the data from csv file store in data\n",
    "    \n",
    "    for line in data:   # reads from iterable data object and puts each line in line object for  every loop\n",
    "        \n",
    "        if line[1]==\"TV Show\":\n",
    "            if line[7]==\"2021\":\n",
    "                print(line[2])"
   ]
  },
  {
   "cell_type": "code",
   "execution_count": null,
   "metadata": {},
   "outputs": [],
   "source": []
  },
  {
   "cell_type": "code",
   "execution_count": 1,
   "metadata": {},
   "outputs": [
    {
     "name": "stdout",
     "output_type": "stream",
     "text": [
      "computer \t science1\n",
      "computer \t science2\n",
      "computer \t science3\n",
      "computer \t science4\n",
      "computer \t science5\n",
      "computer \t science6\n"
     ]
    }
   ],
   "source": [
    "print(\"computer \\t science1\")\n",
    "print(\"computer \\t science2\")\n",
    "print(\"computer \\t science3\")\n",
    "print(\"computer \\t science4\")\n",
    "print(\"computer \\t science5\")\n",
    "print(\"computer \\t science6\")\n",
    "\n",
    "\n"
   ]
  }
 ],
 "metadata": {
  "kernelspec": {
   "display_name": "base",
   "language": "python",
   "name": "python3"
  },
  "language_info": {
   "codemirror_mode": {
    "name": "ipython",
    "version": 3
   },
   "file_extension": ".py",
   "mimetype": "text/x-python",
   "name": "python",
   "nbconvert_exporter": "python",
   "pygments_lexer": "ipython3",
   "version": "3.9.13"
  },
  "orig_nbformat": 4,
  "vscode": {
   "interpreter": {
    "hash": "ad2bdc8ecc057115af97d19610ffacc2b4e99fae6737bb82f5d7fb13d2f2c186"
   }
  }
 },
 "nbformat": 4,
 "nbformat_minor": 2
}
