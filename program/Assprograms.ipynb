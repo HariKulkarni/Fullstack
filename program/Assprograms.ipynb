{
 "cells": [
  {
   "attachments": {},
   "cell_type": "markdown",
   "metadata": {},
   "source": [
    "AREA OF TRANGLE"
   ]
  },
  {
   "cell_type": "code",
   "execution_count": 7,
   "metadata": {},
   "outputs": [
    {
     "name": "stdout",
     "output_type": "stream",
     "text": [
      "AREA OF TRANGLE 1815.0\n"
     ]
    }
   ],
   "source": [
    "def area():\n",
    "    b=float(input(\"enter the base\"))\n",
    "    h=float(input(\"enter the height\"))\n",
    "    area=0.5*b*h\n",
    "    return area\n",
    "\n",
    "ar=area()\n",
    "print(\"AREA OF TRANGLE\",ar)"
   ]
  },
  {
   "attachments": {},
   "cell_type": "markdown",
   "metadata": {},
   "source": [
    "SIMPLE INTEREST"
   ]
  },
  {
   "cell_type": "code",
   "execution_count": 8,
   "metadata": {},
   "outputs": [
    {
     "name": "stdout",
     "output_type": "stream",
     "text": [
      "the simple interest 3000.0\n",
      "the time preiod 7\n",
      "the rste of interest 1.0\n",
      "simple interest is 210.0\n"
     ]
    }
   ],
   "source": [
    "P=float(input(\"enter the principle amount\"))\n",
    "T=int(input(\"enter the time period\"))\n",
    "R=float(input(\"enter the rate\"))\n",
    "simpleinterest(P,T,R)\n",
    "\n",
    "def simpleinterest(p,t,r):\n",
    "    print('the simple interest',p)\n",
    "    print('the time preiod',t)\n",
    "    print('the rste of interest',r)\n",
    "    \n",
    "    si=(p*t*r)/100\n",
    "\n",
    "    print('simple interest is',si)\n"
   ]
  },
  {
   "attachments": {},
   "cell_type": "markdown",
   "metadata": {},
   "source": [
    "COMPOUND INTEREST"
   ]
  },
  {
   "cell_type": "code",
   "execution_count": 5,
   "metadata": {},
   "outputs": [
    {
     "name": "stdout",
     "output_type": "stream",
     "text": [
      "Compound interest is 472.87500000000045\n"
     ]
    }
   ],
   "source": [
    "def compound_interest(principal, rate, time): \n",
    "    Amount = principal * (pow((1 + rate / 100), time)) \n",
    "    CI = Amount - principal \n",
    "    print(\"Compound interest is\", CI) \n",
    "\n",
    "principal = int(input(\"Enter the principal amount: \")) \n",
    "rate = int(input(\"Enter rate of interest: \")) \n",
    "time = int(input(\"Enter time in years: \" ))  \n",
    "\n",
    "compound_interest(principal,rate,time)"
   ]
  }
 ],
 "metadata": {
  "kernelspec": {
   "display_name": "base",
   "language": "python",
   "name": "python3"
  },
  "language_info": {
   "codemirror_mode": {
    "name": "ipython",
    "version": 3
   },
   "file_extension": ".py",
   "mimetype": "text/x-python",
   "name": "python",
   "nbconvert_exporter": "python",
   "pygments_lexer": "ipython3",
   "version": "3.9.13"
  },
  "orig_nbformat": 4
 },
 "nbformat": 4,
 "nbformat_minor": 2
}
